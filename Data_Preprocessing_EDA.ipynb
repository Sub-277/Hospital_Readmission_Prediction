{
  "cells": [
    {
      "cell_type": "code",
      "execution_count": 1,
      "metadata": {
        "id": "0kQdbHcNVMOd"
      },
      "outputs": [],
      "source": [
        "import pandas as pd\n",
        "import warnings\n",
        "warnings.filterwarnings('ignore')\n",
        "import seaborn as sns\n",
        "import scipy.stats as stats\n",
        "import matplotlib.pyplot as plt\n",
        "import numpy as np"
      ]
    },
    {
      "cell_type": "code",
      "execution_count": 2,
      "metadata": {
        "colab": {
          "base_uri": "https://localhost:8080/"
        },
        "id": "zCu02TRMVaY7",
        "outputId": "3e252d99-6564-4d34-cbea-c9923da55ed7"
      },
      "outputs": [
        {
          "name": "stdout",
          "output_type": "stream",
          "text": [
            "<class 'pandas.core.frame.DataFrame'>\n",
            "RangeIndex: 101766 entries, 0 to 101765\n",
            "Data columns (total 50 columns):\n",
            " #   Column                    Non-Null Count   Dtype \n",
            "---  ------                    --------------   ----- \n",
            " 0   encounter_id              101766 non-null  int64 \n",
            " 1   patient_nbr               101766 non-null  int64 \n",
            " 2   race                      101766 non-null  object\n",
            " 3   gender                    101766 non-null  object\n",
            " 4   age                       101766 non-null  object\n",
            " 5   weight                    101766 non-null  object\n",
            " 6   admission_type_id         101766 non-null  int64 \n",
            " 7   discharge_disposition_id  101766 non-null  int64 \n",
            " 8   admission_source_id       101766 non-null  int64 \n",
            " 9   time_in_hospital          101766 non-null  int64 \n",
            " 10  payer_code                101766 non-null  object\n",
            " 11  medical_specialty         101766 non-null  object\n",
            " 12  num_lab_procedures        101766 non-null  int64 \n",
            " 13  num_procedures            101766 non-null  int64 \n",
            " 14  num_medications           101766 non-null  int64 \n",
            " 15  number_outpatient         101766 non-null  int64 \n",
            " 16  number_emergency          101766 non-null  int64 \n",
            " 17  number_inpatient          101766 non-null  int64 \n",
            " 18  diag_1                    101766 non-null  object\n",
            " 19  diag_2                    101766 non-null  object\n",
            " 20  diag_3                    101766 non-null  object\n",
            " 21  number_diagnoses          101766 non-null  int64 \n",
            " 22  max_glu_serum             5346 non-null    object\n",
            " 23  A1Cresult                 17018 non-null   object\n",
            " 24  metformin                 101766 non-null  object\n",
            " 25  repaglinide               101766 non-null  object\n",
            " 26  nateglinide               101766 non-null  object\n",
            " 27  chlorpropamide            101766 non-null  object\n",
            " 28  glimepiride               101766 non-null  object\n",
            " 29  acetohexamide             101766 non-null  object\n",
            " 30  glipizide                 101766 non-null  object\n",
            " 31  glyburide                 101766 non-null  object\n",
            " 32  tolbutamide               101766 non-null  object\n",
            " 33  pioglitazone              101766 non-null  object\n",
            " 34  rosiglitazone             101766 non-null  object\n",
            " 35  acarbose                  101766 non-null  object\n",
            " 36  miglitol                  101766 non-null  object\n",
            " 37  troglitazone              101766 non-null  object\n",
            " 38  tolazamide                101766 non-null  object\n",
            " 39  examide                   101766 non-null  object\n",
            " 40  citoglipton               101766 non-null  object\n",
            " 41  insulin                   101766 non-null  object\n",
            " 42  glyburide-metformin       101766 non-null  object\n",
            " 43  glipizide-metformin       101766 non-null  object\n",
            " 44  glimepiride-pioglitazone  101766 non-null  object\n",
            " 45  metformin-rosiglitazone   101766 non-null  object\n",
            " 46  metformin-pioglitazone    101766 non-null  object\n",
            " 47  change                    101766 non-null  object\n",
            " 48  diabetesMed               101766 non-null  object\n",
            " 49  readmitted                101766 non-null  object\n",
            "dtypes: int64(13), object(37)\n",
            "memory usage: 38.8+ MB\n"
          ]
        }
      ],
      "source": [
        "df=pd.read_csv('diabetic_data.csv')\n",
        "df.info()"
      ]
    },
    {
      "cell_type": "markdown",
      "metadata": {
        "id": "p43DbQGLyaoq"
      },
      "source": [
        "There are total 50 features"
      ]
    },
    {
      "cell_type": "code",
      "execution_count": 3,
      "metadata": {
        "colab": {
          "base_uri": "https://localhost:8080/"
        },
        "id": "4MXuPMY61Zfc",
        "outputId": "7133eb1c-04cd-48dc-cd77-c6bb384f88ba"
      },
      "outputs": [
        {
          "name": "stdout",
          "output_type": "stream",
          "text": [
            "In the dataset there are 50 columns\n",
            "Total categorical columns:  37\n",
            "Categorical columns:  Index(['race', 'gender', 'age', 'weight', 'payer_code', 'medical_specialty',\n",
            "       'diag_1', 'diag_2', 'diag_3', 'max_glu_serum', 'A1Cresult', 'metformin',\n",
            "       'repaglinide', 'nateglinide', 'chlorpropamide', 'glimepiride',\n",
            "       'acetohexamide', 'glipizide', 'glyburide', 'tolbutamide',\n",
            "       'pioglitazone', 'rosiglitazone', 'acarbose', 'miglitol', 'troglitazone',\n",
            "       'tolazamide', 'examide', 'citoglipton', 'insulin',\n",
            "       'glyburide-metformin', 'glipizide-metformin',\n",
            "       'glimepiride-pioglitazone', 'metformin-rosiglitazone',\n",
            "       'metformin-pioglitazone', 'change', 'diabetesMed', 'readmitted'],\n",
            "      dtype='object')\n",
            "Total numerical columns :  13\n",
            "Numerical columns: Index(['encounter_id', 'patient_nbr', 'admission_type_id',\n",
            "       'discharge_disposition_id', 'admission_source_id', 'time_in_hospital',\n",
            "       'num_lab_procedures', 'num_procedures', 'num_medications',\n",
            "       'number_outpatient', 'number_emergency', 'number_inpatient',\n",
            "       'number_diagnoses'],\n",
            "      dtype='object')\n"
          ]
        }
      ],
      "source": [
        "print('In the dataset there are 50 columns')\n",
        "df_cat = df.select_dtypes(include=object)\n",
        "df_num = df.select_dtypes(include=np.number)\n",
        "print(f'Total categorical columns: ',len(df_cat.columns))\n",
        "print(f'Categorical columns: ',df_cat.columns)\n",
        "print(f'Total numerical columns : ',len(df_num.columns))\n",
        "print(f'Numerical columns:',df_num.columns)"
      ]
    },
    {
      "cell_type": "code",
      "execution_count": 4,
      "metadata": {
        "colab": {
          "base_uri": "https://localhost:8080/",
          "height": 1000
        },
        "collapsed": true,
        "id": "el9MNCPS2pnJ",
        "outputId": "e5124c23-e67f-42e5-ea3d-6f71b137bc5e"
      },
      "outputs": [
        {
          "data": {
            "text/plain": [
              "encounter_id                    0\n",
              "patient_nbr                     0\n",
              "race                            0\n",
              "gender                          0\n",
              "age                             0\n",
              "weight                          0\n",
              "admission_type_id               0\n",
              "discharge_disposition_id        0\n",
              "admission_source_id             0\n",
              "time_in_hospital                0\n",
              "payer_code                      0\n",
              "medical_specialty               0\n",
              "num_lab_procedures              0\n",
              "num_procedures                  0\n",
              "num_medications                 0\n",
              "number_outpatient               0\n",
              "number_emergency                0\n",
              "number_inpatient                0\n",
              "diag_1                          0\n",
              "diag_2                          0\n",
              "diag_3                          0\n",
              "number_diagnoses                0\n",
              "max_glu_serum               96420\n",
              "A1Cresult                   84748\n",
              "metformin                       0\n",
              "repaglinide                     0\n",
              "nateglinide                     0\n",
              "chlorpropamide                  0\n",
              "glimepiride                     0\n",
              "acetohexamide                   0\n",
              "glipizide                       0\n",
              "glyburide                       0\n",
              "tolbutamide                     0\n",
              "pioglitazone                    0\n",
              "rosiglitazone                   0\n",
              "acarbose                        0\n",
              "miglitol                        0\n",
              "troglitazone                    0\n",
              "tolazamide                      0\n",
              "examide                         0\n",
              "citoglipton                     0\n",
              "insulin                         0\n",
              "glyburide-metformin             0\n",
              "glipizide-metformin             0\n",
              "glimepiride-pioglitazone        0\n",
              "metformin-rosiglitazone         0\n",
              "metformin-pioglitazone          0\n",
              "change                          0\n",
              "diabetesMed                     0\n",
              "readmitted                      0\n",
              "dtype: int64"
            ]
          },
          "execution_count": 4,
          "metadata": {},
          "output_type": "execute_result"
        }
      ],
      "source": [
        "df.isnull().sum()"
      ]
    },
    {
      "cell_type": "markdown",
      "metadata": {
        "id": "yXy5CaRp2xZD"
      },
      "source": [
        "There are non-existent null values except two columns: max_glu_serum and A1Cresult. We'll need to handle these missing values."
      ]
    },
    {
      "cell_type": "markdown",
      "metadata": {
        "id": "cqMeRwDD3NR3"
      },
      "source": [
        "Check for illegal or special character in the dataset, that we noticed while skimming through the dataset"
      ]
    },
    {
      "cell_type": "code",
      "execution_count": 5,
      "metadata": {
        "colab": {
          "base_uri": "https://localhost:8080/"
        },
        "id": "vH1wo0y92w3m",
        "outputId": "b0d87a6f-37d5-45a1-8bdd-2e1b87afc1c4"
      },
      "outputs": [
        {
          "name": "stdout",
          "output_type": "stream",
          "text": [
            "race 2273\n",
            "gender 0\n",
            "age 0\n",
            "weight 98569\n",
            "payer_code 40256\n",
            "medical_specialty 49949\n",
            "diag_1 21\n",
            "diag_2 358\n",
            "diag_3 1423\n",
            "max_glu_serum 0\n",
            "A1Cresult 0\n",
            "metformin 0\n",
            "repaglinide 0\n",
            "nateglinide 0\n",
            "chlorpropamide 0\n",
            "glimepiride 0\n",
            "acetohexamide 0\n",
            "glipizide 0\n",
            "glyburide 0\n",
            "tolbutamide 0\n",
            "pioglitazone 0\n",
            "rosiglitazone 0\n",
            "acarbose 0\n",
            "miglitol 0\n",
            "troglitazone 0\n",
            "tolazamide 0\n",
            "examide 0\n",
            "citoglipton 0\n",
            "insulin 0\n",
            "glyburide-metformin 0\n",
            "glipizide-metformin 0\n",
            "glimepiride-pioglitazone 0\n",
            "metformin-rosiglitazone 0\n",
            "metformin-pioglitazone 0\n",
            "change 0\n",
            "diabetesMed 0\n",
            "readmitted 0\n"
          ]
        }
      ],
      "source": [
        "for col in df.columns:\n",
        "  if df[col].dtype == object:\n",
        "    print(col,df[col][df[col] == '?'].count())"
      ]
    },
    {
      "cell_type": "markdown",
      "metadata": {
        "id": "uzBNzK4h3iMu"
      },
      "source": [
        "There are non-existent special character values except seven columns:\n",
        "1. weight\n",
        "2. medical_specialty\n",
        "3. payer_code\n",
        "4. diag_1\n",
        "5. diag_2\n",
        "6. diag_3\n",
        "7. race\n",
        "\n",
        "We'll need to handle these values."
      ]
    },
    {
      "cell_type": "code",
      "execution_count": 6,
      "metadata": {
        "colab": {
          "base_uri": "https://localhost:8080/"
        },
        "id": "PC4veWHN4NI_",
        "outputId": "aaf60b66-6702-4f46-edff-48870d189a69"
      },
      "outputs": [
        {
          "name": "stdout",
          "output_type": "stream",
          "text": [
            "race: 2.23%\n",
            "weight: 96.86%\n",
            "payer_code: 39.56%\n",
            "medical_specialty: 49.08%\n",
            "diag_1: 0.02%\n",
            "diag_2: 0.35%\n",
            "diag_3: 1.40%\n"
          ]
        }
      ],
      "source": [
        "for col in df.columns:\n",
        "    if (df[col] == '?').any():\n",
        "        percentage = (df[col] == '?').sum() / len(df) * 100\n",
        "        print(f\"{col}: {percentage:.2f}%\")"
      ]
    },
    {
      "cell_type": "markdown",
      "metadata": {
        "id": "i0ZCYaOo5BIx"
      },
      "source": [
        "- weight has 96.86% of the '?' values\n",
        "- payer_code has 39.56% '?' values\n",
        "- medical_specialty has 49.08% '?' values\n",
        "\n",
        "**Conclusion:** Handle the missing value in weight, payer_code and medical_speciality columns"
      ]
    },
    {
      "cell_type": "code",
      "execution_count": 7,
      "metadata": {
        "colab": {
          "base_uri": "https://localhost:8080/"
        },
        "collapsed": true,
        "id": "lzdfVL99VgqE",
        "outputId": "7436dfb7-6ea4-4083-b82d-6021882a7925"
      },
      "outputs": [
        {
          "data": {
            "text/plain": [
              "101766"
            ]
          },
          "execution_count": 7,
          "metadata": {},
          "output_type": "execute_result"
        }
      ],
      "source": [
        "#0. encounter_id\n",
        "df ['encounter_id'].nunique()"
      ]
    },
    {
      "cell_type": "markdown",
      "metadata": {
        "id": "xD9PFmmfzj2v"
      },
      "source": [
        "On each visits patients have been provided with different unique encounter_id , hence there are 101766 values."
      ]
    },
    {
      "cell_type": "code",
      "execution_count": 8,
      "metadata": {
        "colab": {
          "base_uri": "https://localhost:8080/"
        },
        "id": "P6vE39qdzJ5J",
        "outputId": "e6e96aa3-2057-45e9-bcae-44bd549d2346"
      },
      "outputs": [
        {
          "data": {
            "text/plain": [
              "71518"
            ]
          },
          "execution_count": 8,
          "metadata": {},
          "output_type": "execute_result"
        }
      ],
      "source": [
        "#1. patient_nbr\n",
        "df ['patient_nbr'].nunique()"
      ]
    },
    {
      "cell_type": "markdown",
      "metadata": {
        "id": "hjzXok4u0hKK"
      },
      "source": [
        "There are 71518 unique records of the patients are present."
      ]
    },
    {
      "cell_type": "markdown",
      "metadata": {
        "id": "XevPCLdT0sed"
      },
      "source": [
        "Identifier Columns: encounter_id and patient_nbr these unique record identifiers and does not contribute to the overall permormance of the model inference. **Hence, these two columns can be dropped**"
      ]
    },
    {
      "cell_type": "code",
      "execution_count": 9,
      "metadata": {
        "id": "NYjA5o7b0Fv0"
      },
      "outputs": [],
      "source": [
        "df = df.drop(columns=['encounter_id', 'patient_nbr'])"
      ]
    },
    {
      "cell_type": "code",
      "execution_count": 10,
      "metadata": {
        "colab": {
          "base_uri": "https://localhost:8080/",
          "height": 333
        },
        "id": "eKPbLGU01IYt",
        "outputId": "6a06b289-b5f8-40ee-d411-310317ea6bb5"
      },
      "outputs": [
        {
          "data": {
            "image/png": "[encoded data removed]",
            "text/plain": [
              "<Figure size 700x300 with 1 Axes>"
            ]
          },
          "metadata": {},
          "output_type": "display_data"
        }
      ],
      "source": [
        "#2. race\n",
        "race_counts = df['race'].value_counts().sort_values()\n",
        "ax = race_counts.plot(kind='barh', figsize=(7,3))\n",
        "plt.title('Distribution of Race')\n",
        "plt.xlabel('Count')\n",
        "plt.ylabel('Race')\n",
        "\n",
        "for i, v in enumerate(race_counts):\n",
        "    ax.text(v, i, str(v), color='black', va='center')\n",
        "\n",
        "plt.show()"
      ]
    },
    {
      "cell_type": "markdown",
      "metadata": {
        "id": "KuAjGaSS6vMz"
      },
      "source": [
        "There are 6 distinct values in race feature including '?' missing character. As of now, we have decided to replace the missing data points values with 'Other' category, as most likely people who skip filling their race have done that because they couldn't find their race listed within the options."
      ]
    },
    {
      "cell_type": "code",
      "execution_count": 11,
      "metadata": {
        "colab": {
          "base_uri": "https://localhost:8080/"
        },
        "id": "vkb922RK-Rne",
        "outputId": "8d80c44d-88ab-4721-b0d8-0f216fd847ca"
      },
      "outputs": [
        {
          "data": {
            "text/plain": [
              "np.float64(2.2335554114340743)"
            ]
          },
          "execution_count": 11,
          "metadata": {},
          "output_type": "execute_result"
        }
      ],
      "source": [
        "df['race'] = df['race'].replace('?',np.nan)\n",
        "df['race'].isna().sum()*100/df.shape[0]"
      ]
    },
    {
      "cell_type": "code",
      "execution_count": 12,
      "metadata": {
        "id": "2d5d7eff"
      },
      "outputs": [],
      "source": [
        "df['race'] = df['race'].replace('?', 'Other')"
      ]
    },
    {
      "cell_type": "code",
      "execution_count": 13,
      "metadata": {
        "colab": {
          "base_uri": "https://localhost:8080/",
          "height": 333
        },
        "id": "KxpvSAnY7anK",
        "outputId": "c17b5617-4e46-491d-b696-12d94df8641f"
      },
      "outputs": [
        {
          "data": {
            "image/png": "[encoded data removed]",
            "text/plain": [
              "<Figure size 700x300 with 1 Axes>"
            ]
          },
          "metadata": {},
          "output_type": "display_data"
        }
      ],
      "source": [
        "#3. gender\n",
        "gender_counts = df['gender'].value_counts().sort_values()\n",
        "ax = gender_counts.plot(kind='barh', figsize=(7,3))\n",
        "plt.title('Distribution of gender')\n",
        "plt.xlabel('Count')\n",
        "plt.ylabel('gender')\n",
        "\n",
        "for i, v in enumerate(gender_counts):\n",
        "    ax.text(v, i, str(v), color='black', va='center')\n",
        "\n",
        "plt.show()"
      ]
    },
    {
      "cell_type": "markdown",
      "metadata": {
        "id": "3T0YxHu_msRd"
      },
      "source": [
        "- Observation: Dataset contains only 3 records from Unknown/Invalid group.\n",
        "- Strategy: These 3 values can be replaced by the Mode of the dataset (Female)"
      ]
    },
    {
      "cell_type": "code",
      "execution_count": 14,
      "metadata": {
        "colab": {
          "base_uri": "https://localhost:8080/",
          "height": 178
        },
        "id": "LEdKSe1_mXfn",
        "outputId": "2a71ce2e-f045-45fa-abe5-9afee48992da"
      },
      "outputs": [
        {
          "data": {
            "text/plain": [
              "gender\n",
              "Female    54711\n",
              "Male      47055\n",
              "Name: count, dtype: int64"
            ]
          },
          "execution_count": 14,
          "metadata": {},
          "output_type": "execute_result"
        }
      ],
      "source": [
        "df['gender'] = df['gender'].replace('Unknown/Invalid', 'Female')\n",
        "df.gender.value_counts()"
      ]
    },
    {
      "cell_type": "markdown",
      "metadata": {
        "id": "FcWQ8_NL7vvG"
      },
      "source": [
        "There are 2 categories here: male, female which can be encoded as Female: 0 and Male: 1"
      ]
    },
    {
      "cell_type": "code",
      "execution_count": 15,
      "metadata": {
        "id": "YJgkzsfA7rwL"
      },
      "outputs": [],
      "source": [
        "# encoding gender\n",
        "df['gender'] = df['gender'].replace({'Female' : 0, 'Male' : 1})"
      ]
    },
    {
      "cell_type": "code",
      "execution_count": 16,
      "metadata": {
        "colab": {
          "base_uri": "https://localhost:8080/",
          "height": 333
        },
        "id": "GPdA4OGT8AOj",
        "outputId": "21b34b16-0dab-476d-9d34-6ad29151593c"
      },
      "outputs": [
        {
          "data": {
            "image/png": "[encoded data removed]",
            "text/plain": [
              "<Figure size 700x300 with 1 Axes>"
            ]
          },
          "metadata": {},
          "output_type": "display_data"
        }
      ],
      "source": [
        "#4. age\n",
        "age_counts = df.groupby('age').size().sort_values()\n",
        "ax = age_counts.plot(kind='barh', figsize=(7,3))\n",
        "plt.title('Distribution of age')\n",
        "plt.xlabel('Count')\n",
        "plt.ylabel('age')\n",
        "\n",
        "for i, v in enumerate(age_counts):\n",
        "    ax.text(v, i, str(v), color='black', va='center')\n",
        "\n",
        "plt.show()"
      ]
    },
    {
      "cell_type": "markdown",
      "metadata": {
        "id": "9qUWzb7R_ISQ"
      },
      "source": [
        "For age, we have 10 categories, each represents 10 years range from [0-10] to [90-100]. We will replace those with the middle age for each age range: for example (0,10] will be replaced with 5; (60, 70] will be replaces by 65; and so on."
      ]
    },
    {
      "cell_type": "code",
      "execution_count": 17,
      "metadata": {
        "colab": {
          "base_uri": "https://localhost:8080/",
          "height": 429
        },
        "id": "z830ppsR9iqH",
        "outputId": "1c808399-fdef-468c-88b8-089272b2420d"
      },
      "outputs": [
        {
          "data": {
            "text/plain": [
              "age\n",
              "75    26068\n",
              "65    22483\n",
              "55    17256\n",
              "85    17197\n",
              "45     9685\n",
              "35     3775\n",
              "95     2793\n",
              "25     1657\n",
              "15      691\n",
              "5       161\n",
              "Name: count, dtype: int64"
            ]
          },
          "execution_count": 17,
          "metadata": {},
          "output_type": "execute_result"
        }
      ],
      "source": [
        "for i in range(0,10):\n",
        "    df['age'] = df['age'].replace('['+str(10*i)+'-'+str(10*(i+1))+')', i*10+5)\n",
        "df['age'].value_counts()"
      ]
    },
    {
      "cell_type": "code",
      "execution_count": 18,
      "metadata": {
        "colab": {
          "base_uri": "https://localhost:8080/",
          "height": 429
        },
        "id": "7YO_2tfF_YB1",
        "outputId": "3c4e66fa-006a-485b-8083-a36f6bee5657"
      },
      "outputs": [
        {
          "data": {
            "text/plain": [
              "weight\n",
              "?            96.858479\n",
              "[75-100)      1.312816\n",
              "[50-75)       0.881434\n",
              "[100-125)     0.614154\n",
              "[125-150)     0.142484\n",
              "[25-50)       0.095317\n",
              "[0-25)        0.047167\n",
              "[150-175)     0.034393\n",
              "[175-200)     0.010809\n",
              ">200          0.002948\n",
              "Name: proportion, dtype: float64"
            ]
          },
          "execution_count": 18,
          "metadata": {},
          "output_type": "execute_result"
        }
      ],
      "source": [
        "#5. weights\n",
        "df['weight'].value_counts(1)*100"
      ]
    },
    {
      "cell_type": "markdown",
      "metadata": {
        "id": "9pHQVKTIAaNB"
      },
      "source": [
        "Weight distributed into bins of 25 units, but 96.77% part of the weight has '?' values. But, this can have significance contribution to the data and future model prediction. Hence, creating a indicator column named 'has_weight' to where the value is present and dropping the original column"
      ]
    },
    {
      "cell_type": "code",
      "execution_count": 19,
      "metadata": {
        "id": "3BLu-EN2_ehU"
      },
      "outputs": [],
      "source": [
        "df['has_weight']=df['weight'].notnull().astype('int')\n",
        "df.drop(['weight'],axis=1,inplace=True)"
      ]
    },
    {
      "cell_type": "code",
      "execution_count": 20,
      "metadata": {
        "colab": {
          "base_uri": "https://localhost:8080/",
          "height": 333
        },
        "id": "D9BuICTgBVXA",
        "outputId": "af9844a3-6a42-43bb-fce3-d135e7e33718"
      },
      "outputs": [
        {
          "data": {
            "image/png": "[encoded data removed]",
            "text/plain": [
              "<Figure size 700x300 with 1 Axes>"
            ]
          },
          "metadata": {},
          "output_type": "display_data"
        }
      ],
      "source": [
        "#6. admission_type_id\n",
        "admission_type_id_counts = df.groupby('admission_type_id').size().sort_values()\n",
        "ax = admission_type_id_counts.plot(kind='barh', figsize=(7,3))\n",
        "plt.title('Distribution of admission_type_id ')\n",
        "plt.xlabel('Count')\n",
        "plt.ylabel('admission_type_id ')\n",
        "\n",
        "for i, v in enumerate(admission_type_id_counts):\n",
        "    ax.text(v, i, str(v), color='black', va='center')\n",
        "\n",
        "plt.show()"
      ]
    },
    {
      "cell_type": "markdown",
      "metadata": {
        "id": "TUXYzHDOCIz6"
      },
      "source": [
        "admission_type_id description:\n",
        "\n",
        "- These 8 values correspond to:\n",
        "1. Emergency\n",
        "2. Urgent\n",
        "3. Elective\n",
        "4. Newborn\n",
        "5. Not Available\n",
        "6. NULL\n",
        "7. Trauma Center\n",
        "8. Not Mapped\n",
        "\n",
        "- From this description we can see that the majority patients that have been admitted in this hospital have an admission type as **Emergency**\n",
        "- For further analysis we can merged these categories into less number of categories\n",
        "- Emeregncy/Urgent/Trauma Center-TO-Emergency\n",
        "- Not Available/Null/Not Mapped-TO-Not Available\n",
        "- Elective & New Born remain same"
      ]
    },
    {
      "cell_type": "code",
      "execution_count": 21,
      "metadata": {
        "id": "LsARdrAKB1w8"
      },
      "outputs": [],
      "source": [
        "df['admission_type_id']=df['admission_type_id'].replace({1:'Emergency',2:'Emergency',7:'Emergency',\n",
        "                                                         5:'Not Available', 6:'Not Available', 8:'Not Available',\n",
        "                                                         3:'Elective',4:'Newborn'})"
      ]
    },
    {
      "cell_type": "code",
      "execution_count": 22,
      "metadata": {
        "colab": {
          "base_uri": "https://localhost:8080/",
          "height": 333
        },
        "id": "UPY9QcufCta4",
        "outputId": "50e27245-d961-4df2-8fb0-af867f72d511"
      },
      "outputs": [
        {
          "data": {
            "image/png": "[encoded data removed]",
            "text/plain": [
              "<Figure size 700x300 with 1 Axes>"
            ]
          },
          "metadata": {},
          "output_type": "display_data"
        }
      ],
      "source": [
        "admission_type_id_counts = df.groupby('admission_type_id').size().sort_values()\n",
        "ax = admission_type_id_counts.plot(kind='barh', figsize=(7,3))\n",
        "plt.title('Distribution of admission_type_id ')\n",
        "plt.xlabel('Count')\n",
        "plt.ylabel('admission_type_id ')\n",
        "\n",
        "for i, v in enumerate(admission_type_id_counts):\n",
        "    ax.text(v, i, str(v), color='black', va='center')\n",
        "\n",
        "plt.show()"
      ]
    },
    {
      "cell_type": "markdown",
      "metadata": {
        "id": "8HgkVy3mDmEF"
      },
      "source": [
        "**POINT OF CAUTION:** Once we check the 10 values for 'Newborn' data we can see quite the contradictory picture between age of patients and their admission type. All of these patients are over 50. This can be classified as 'Selection Bias'."
      ]
    },
    {
      "cell_type": "code",
      "execution_count": 23,
      "metadata": {
        "colab": {
          "base_uri": "https://localhost:8080/",
          "height": 363
        },
        "id": "M-OxINz3C7Ts",
        "outputId": "9ded1ef1-a434-4d60-d9bb-6da2794badcd"
      },
      "outputs": [
        {
          "data": {
            "text/html": [
              "<div>\n",
              "<style scoped>\n",
              "    .dataframe tbody tr th:only-of-type {\n",
              "        vertical-align: middle;\n",
              "    }\n",
              "\n",
              "    .dataframe tbody tr th {\n",
              "        vertical-align: top;\n",
              "    }\n",
              "\n",
              "    .dataframe thead th {\n",
              "        text-align: right;\n",
              "    }\n",
              "</style>\n",
              "<table border=\"1\" class=\"dataframe\">\n",
              "  <thead>\n",
              "    <tr style=\"text-align: right;\">\n",
              "      <th></th>\n",
              "      <th>gender</th>\n",
              "      <th>age</th>\n",
              "      <th>admission_type_id</th>\n",
              "    </tr>\n",
              "  </thead>\n",
              "  <tbody>\n",
              "    <tr>\n",
              "      <th>2043</th>\n",
              "      <td>1</td>\n",
              "      <td>55</td>\n",
              "      <td>Newborn</td>\n",
              "    </tr>\n",
              "    <tr>\n",
              "      <th>2203</th>\n",
              "      <td>1</td>\n",
              "      <td>85</td>\n",
              "      <td>Newborn</td>\n",
              "    </tr>\n",
              "    <tr>\n",
              "      <th>2461</th>\n",
              "      <td>1</td>\n",
              "      <td>75</td>\n",
              "      <td>Newborn</td>\n",
              "    </tr>\n",
              "    <tr>\n",
              "      <th>4823</th>\n",
              "      <td>0</td>\n",
              "      <td>65</td>\n",
              "      <td>Newborn</td>\n",
              "    </tr>\n",
              "    <tr>\n",
              "      <th>35877</th>\n",
              "      <td>1</td>\n",
              "      <td>65</td>\n",
              "      <td>Newborn</td>\n",
              "    </tr>\n",
              "    <tr>\n",
              "      <th>47548</th>\n",
              "      <td>1</td>\n",
              "      <td>45</td>\n",
              "      <td>Newborn</td>\n",
              "    </tr>\n",
              "    <tr>\n",
              "      <th>48711</th>\n",
              "      <td>0</td>\n",
              "      <td>75</td>\n",
              "      <td>Newborn</td>\n",
              "    </tr>\n",
              "    <tr>\n",
              "      <th>80354</th>\n",
              "      <td>0</td>\n",
              "      <td>5</td>\n",
              "      <td>Newborn</td>\n",
              "    </tr>\n",
              "    <tr>\n",
              "      <th>87714</th>\n",
              "      <td>1</td>\n",
              "      <td>65</td>\n",
              "      <td>Newborn</td>\n",
              "    </tr>\n",
              "    <tr>\n",
              "      <th>100721</th>\n",
              "      <td>1</td>\n",
              "      <td>85</td>\n",
              "      <td>Newborn</td>\n",
              "    </tr>\n",
              "  </tbody>\n",
              "</table>\n",
              "</div>"
            ],
            "text/plain": [
              "        gender  age admission_type_id\n",
              "2043         1   55           Newborn\n",
              "2203         1   85           Newborn\n",
              "2461         1   75           Newborn\n",
              "4823         0   65           Newborn\n",
              "35877        1   65           Newborn\n",
              "47548        1   45           Newborn\n",
              "48711        0   75           Newborn\n",
              "80354        0    5           Newborn\n",
              "87714        1   65           Newborn\n",
              "100721       1   85           Newborn"
            ]
          },
          "execution_count": 23,
          "metadata": {},
          "output_type": "execute_result"
        }
      ],
      "source": [
        "df[df['admission_type_id']== 'Newborn'][['gender','age','admission_type_id']]"
      ]
    },
    {
      "cell_type": "markdown",
      "metadata": {
        "id": "TXmZexEAEY7X"
      },
      "source": [
        "**Conclusion:** Dropping these values"
      ]
    },
    {
      "cell_type": "code",
      "execution_count": 24,
      "metadata": {
        "id": "XGDdFTczDy2v"
      },
      "outputs": [],
      "source": [
        "df=df[df['admission_type_id']!='Newborn']"
      ]
    },
    {
      "cell_type": "code",
      "execution_count": 25,
      "metadata": {
        "colab": {
          "base_uri": "https://localhost:8080/",
          "height": 333
        },
        "id": "DRyyMXhBEg59",
        "outputId": "aea1e7b7-2d31-4ab2-b30c-7eee4cd00423"
      },
      "outputs": [
        {
          "data": {
            "image/png": "[encoded data removed]",
            "text/plain": [
              "<Figure size 700x300 with 1 Axes>"
            ]
          },
          "metadata": {},
          "output_type": "display_data"
        }
      ],
      "source": [
        "admission_type_id_counts = df.groupby('admission_type_id').size().sort_values()\n",
        "ax = admission_type_id_counts.plot(kind='barh', figsize=(7,3))\n",
        "plt.title('Distribution of admission_type_id ')\n",
        "plt.xlabel('Count')\n",
        "plt.ylabel('admission_type_id ')\n",
        "\n",
        "for i, v in enumerate(admission_type_id_counts):\n",
        "    ax.text(v, i, str(v), color='black', va='center')\n",
        "\n",
        "plt.show()"
      ]
    },
    {
      "cell_type": "markdown",
      "metadata": {
        "id": "PxM4DhL-skTB"
      },
      "source": [
        "The detailed list on the ID mapping has been provided in the UCI data package:\n",
        "- https://archive.ics.uci.edu/dataset/296/diabetes+130-us+hospitals+for+years+1999-2008\n",
        "- Out of the 26 values, most of the similar categories can be mapped together"
      ]
    },
    {
      "cell_type": "code",
      "execution_count": 26,
      "metadata": {
        "id": "D1KJgmP8EjGb"
      },
      "outputs": [],
      "source": [
        "#7. discharge_disposition_id\n",
        "df['discharge_disposition_id']=df['discharge_disposition_id'].replace({\n",
        "                                        1:'Discharged to home',\n",
        "                                        2:'Transferred to another medical institution',\n",
        "                                        3:'Transferred to another medical institution',\n",
        "                                        4:'Transferred to another medical institution',\n",
        "                                        5:'Transferred to another medical institution',\n",
        "                                        16:'Transferred to another medical institution',\n",
        "                                        22:'Transferred to another medical institution',\n",
        "                                        23:'Transferred to another medical institution',\n",
        "                                        24:'Transferred to another medical institution',\n",
        "                                        27:'Transferred to another medical institution',\n",
        "                                        28:'Transferred to another medical institution',\n",
        "                                        29:'Transferred to another medical institution',\n",
        "                                        30:'Transferred to another medical institution',\n",
        "                                        6:'Discharged/transferred to home with home health service',\n",
        "                                        8:'Discharged/transferred to home with home health service',\n",
        "                                        7:'Left AMA',\n",
        "                                        9:'Admitted patient/referred to this institution',\n",
        "                                        12:'Admitted patient/referred to this institution',\n",
        "                                        15:'Admitted patient/referred to this institution',\n",
        "                                        17:'Admitted patient/referred to this institution',\n",
        "                                        10:'Neonate discharged to another hospital',\n",
        "                                        11:'Expired',\n",
        "                                        19:'Expired',\n",
        "                                        20:'Expired',\n",
        "                                        21:'Expired',\n",
        "                                        13:'Hospice',\n",
        "                                        14:'Hospice',\n",
        "                                        18:'Not Available',\n",
        "                                        25:'Not Available',\n",
        "                                        26:'Not Available'})"
      ]
    },
    {
      "cell_type": "code",
      "execution_count": 27,
      "metadata": {
        "colab": {
          "base_uri": "https://localhost:8080/",
          "height": 333
        },
        "id": "OlzENWmXuUJE",
        "outputId": "869ed6cd-5dff-4eb5-c534-a72353d2597e"
      },
      "outputs": [
        {
          "data": {
            "image/png": "[encoded data removed]",
            "text/plain": [
              "<Figure size 700x300 with 1 Axes>"
            ]
          },
          "metadata": {},
          "output_type": "display_data"
        }
      ],
      "source": [
        "discharge_disposition_id_counts = df['discharge_disposition_id'].value_counts().sort_values()\n",
        "\n",
        "ax = discharge_disposition_id_counts.plot(kind='barh', figsize=(7,3))\n",
        "plt.title('Distribution of discharge_disposition_id ')\n",
        "plt.xlabel('Count')\n",
        "plt.ylabel('discharge_disposition_id ')\n",
        "\n",
        "for i, v in enumerate(discharge_disposition_id_counts):\n",
        "    ax.text(v, i, str(v), color='black', va='center')\n",
        "\n",
        "plt.show()"
      ]
    },
    {
      "cell_type": "markdown",
      "metadata": {
        "id": "YvpECmNhu9lZ"
      },
      "source": [
        "- Observation:\n",
        "  - Patients who have 'Expired' will not be readmitted\n",
        "  - Neonate or newborn will create bias due to less chances of diabetic symptoms\n",
        "  - Hospice patients will also create bias due to presence of terminally ill patients\n",
        "\n",
        "- Conclusion: These records can be removed from the dataset"
      ]
    },
    {
      "cell_type": "code",
      "execution_count": 28,
      "metadata": {
        "id": "iHO1Xo4_uojA"
      },
      "outputs": [],
      "source": [
        "df=df[df['discharge_disposition_id']!='Expired']\n",
        "df=df[df['discharge_disposition_id']!='Neonate discharged']\n",
        "df=df[df['discharge_disposition_id']!='Hospice']"
      ]
    },
    {
      "cell_type": "code",
      "execution_count": 29,
      "metadata": {
        "colab": {
          "base_uri": "https://localhost:8080/",
          "height": 649
        },
        "id": "zl61W4mCxGSX",
        "outputId": "7bd70853-d029-4b23-e002-5f2138e30947"
      },
      "outputs": [
        {
          "data": {
            "text/plain": [
              "admission_source_id\n",
              "14        1\n",
              "13        1\n",
              "25        2\n",
              "11        2\n",
              "10        8\n",
              "22       12\n",
              "8        15\n",
              "9       125\n",
              "20      159\n",
              "3       185\n",
              "5       806\n",
              "2      1081\n",
              "6      2239\n",
              "4      3113\n",
              "17     6570\n",
              "1     29166\n",
              "7     55848\n",
              "Name: count, dtype: int64"
            ]
          },
          "execution_count": 29,
          "metadata": {},
          "output_type": "execute_result"
        }
      ],
      "source": [
        "#8. admission_source_id\n",
        "df['admission_source_id'].value_counts().sort_values()"
      ]
    },
    {
      "cell_type": "markdown",
      "metadata": {
        "id": "AJQHEi90xvJF"
      },
      "source": [
        "This is an integer identifier corresponding to 17 distinct values, for example, physician referral, emergency room, and transfer from a hospital.\n",
        "\n",
        "The detailed list on the ID mapping has been provided in the UCI data package:\n",
        "- https://archive.ics.uci.edu/dataset/296/diabetes+130-us+hospitals+for+years+1999-2008\n",
        "- Out of the 17 values, most of the similar categories can be mapped together"
      ]
    },
    {
      "cell_type": "code",
      "execution_count": 30,
      "metadata": {
        "id": "B1pMUbCnxhYG"
      },
      "outputs": [],
      "source": [
        "df['admission_source_id']=df['admission_source_id'].replace({\n",
        "                                   1:'Hospital Referral',\n",
        "                                   2:'Hospital Referral',\n",
        "                                   3:'Hospital Referral',\n",
        "                                   4:'Transferred from another health care facility',\n",
        "                                   5:'Transferred from another health care facility',\n",
        "                                   6:'Transferred from another health care facility',\n",
        "                                   10:'Transferred from another health care facility',\n",
        "                                   18:'Transferred from another health care facility',\n",
        "                                   19:'Transferred from another health care facility',\n",
        "                                   22:'Transferred from another health care facility',\n",
        "                                   25:'Transferred from another health care facility',\n",
        "                                   26:'Transferred from another health care facility',\n",
        "                                   7:'Emergency',\n",
        "                                   8:'Emergency',\n",
        "                                   9:'Not Available',\n",
        "                                   15:'Not Available',\n",
        "                                   17:'Not Available',\n",
        "                                   20:'Not Available',\n",
        "                                   21:'Not Available',\n",
        "                                   11:'Newborn',\n",
        "                                   12:'Newborn',\n",
        "                                   13:'Newborn',\n",
        "                                   14:'Newborn',\n",
        "                                   23:'Newborn',\n",
        "                                   24:'Newborn'})"
      ]
    },
    {
      "cell_type": "code",
      "execution_count": 31,
      "metadata": {
        "colab": {
          "base_uri": "https://localhost:8080/",
          "height": 333
        },
        "id": "YdVWckdCy2xw",
        "outputId": "f74a6b05-39b3-4e09-f6dc-a6858d4e1115"
      },
      "outputs": [
        {
          "data": {
            "image/png": "[encoded data removed]",
            "text/plain": [
              "<Figure size 700x300 with 1 Axes>"
            ]
          },
          "metadata": {},
          "output_type": "display_data"
        }
      ],
      "source": [
        "admission_source_id_counts = df['admission_source_id'].value_counts().sort_values()\n",
        "\n",
        "ax = admission_source_id_counts.plot(kind='barh', figsize=(7,3))\n",
        "plt.title('Distribution of admission_source_id ')\n",
        "plt.xlabel('Count')\n",
        "plt.ylabel('admission_source_id ')\n",
        "\n",
        "for i, v in enumerate(admission_source_id_counts):\n",
        "    ax.text(v, i, str(v), color='black', va='center')\n",
        "\n",
        "plt.show()"
      ]
    },
    {
      "cell_type": "code",
      "execution_count": 32,
      "metadata": {
        "colab": {
          "base_uri": "https://localhost:8080/",
          "height": 175
        },
        "id": "I7hZwEluy91-",
        "outputId": "6b11f885-42ce-434a-9650-b8d1862059d2"
      },
      "outputs": [
        {
          "data": {
            "text/html": [
              "<div>\n",
              "<style scoped>\n",
              "    .dataframe tbody tr th:only-of-type {\n",
              "        vertical-align: middle;\n",
              "    }\n",
              "\n",
              "    .dataframe tbody tr th {\n",
              "        vertical-align: top;\n",
              "    }\n",
              "\n",
              "    .dataframe thead th {\n",
              "        text-align: right;\n",
              "    }\n",
              "</style>\n",
              "<table border=\"1\" class=\"dataframe\">\n",
              "  <thead>\n",
              "    <tr style=\"text-align: right;\">\n",
              "      <th></th>\n",
              "      <th>gender</th>\n",
              "      <th>age</th>\n",
              "      <th>admission_source_id</th>\n",
              "    </tr>\n",
              "  </thead>\n",
              "  <tbody>\n",
              "    <tr>\n",
              "      <th>83432</th>\n",
              "      <td>0</td>\n",
              "      <td>75</td>\n",
              "      <td>Newborn</td>\n",
              "    </tr>\n",
              "    <tr>\n",
              "      <th>83510</th>\n",
              "      <td>0</td>\n",
              "      <td>25</td>\n",
              "      <td>Newborn</td>\n",
              "    </tr>\n",
              "    <tr>\n",
              "      <th>85588</th>\n",
              "      <td>0</td>\n",
              "      <td>75</td>\n",
              "      <td>Newborn</td>\n",
              "    </tr>\n",
              "    <tr>\n",
              "      <th>97384</th>\n",
              "      <td>1</td>\n",
              "      <td>75</td>\n",
              "      <td>Newborn</td>\n",
              "    </tr>\n",
              "  </tbody>\n",
              "</table>\n",
              "</div>"
            ],
            "text/plain": [
              "       gender  age admission_source_id\n",
              "83432       0   75             Newborn\n",
              "83510       0   25             Newborn\n",
              "85588       0   75             Newborn\n",
              "97384       1   75             Newborn"
            ]
          },
          "execution_count": 32,
          "metadata": {},
          "output_type": "execute_result"
        }
      ],
      "source": [
        "df[df['admission_source_id']=='Newborn'][['gender','age','admission_source_id']]"
      ]
    },
    {
      "cell_type": "markdown",
      "metadata": {
        "id": "fZR56AxKBY-Q"
      },
      "source": [
        "**POINT OF CAUTION:** Once we check the 4 values for 'Newborn' data we can see quite the contradictory picture between age of patients and their admission_source_id. This can also be classified as 'Selection Bias'.\n",
        "\n",
        "**Conclusion:** Dropping these values"
      ]
    },
    {
      "cell_type": "code",
      "execution_count": 33,
      "metadata": {
        "id": "LaJGpUrCzFAq"
      },
      "outputs": [],
      "source": [
        "df=df[df['admission_source_id']!='Newborn']"
      ]
    },
    {
      "cell_type": "code",
      "execution_count": 34,
      "metadata": {
        "colab": {
          "base_uri": "https://localhost:8080/",
          "height": 333
        },
        "id": "vuZzDBrpB-I5",
        "outputId": "b7c8bea8-3992-4edb-ba38-5a7dd05e238f"
      },
      "outputs": [
        {
          "data": {
            "image/png": "[encoded data removed]",
            "text/plain": [
              "<Figure size 700x300 with 1 Axes>"
            ]
          },
          "metadata": {},
          "output_type": "display_data"
        }
      ],
      "source": [
        "#9. time_in_hospital: number of days between admission and discharge\n",
        "time_in_hospital_counts = df['time_in_hospital'].value_counts().sort_values()\n",
        "\n",
        "ax = time_in_hospital_counts.plot(kind='barh', figsize=(7,3))\n",
        "plt.title('Distribution of time_in_hospital ')\n",
        "plt.xlabel('Count')\n",
        "plt.ylabel('time_in_hospital ')\n",
        "\n",
        "for i, v in enumerate(time_in_hospital_counts):\n",
        "    ax.text(v, i, str(v), color='black', va='center')\n",
        "\n",
        "plt.show()"
      ]
    },
    {
      "cell_type": "markdown",
      "metadata": {
        "id": "DBn-W8YmIHxf"
      },
      "source": [
        "Patients have spent 1 to 14 days in the hospital during their treatment period."
      ]
    },
    {
      "cell_type": "code",
      "execution_count": 35,
      "metadata": {
        "colab": {
          "base_uri": "https://localhost:8080/",
          "height": 680
        },
        "id": "LdjcXmX0HpkG",
        "outputId": "fc360727-bb46-429d-e263-4dbf0bb4ca6a"
      },
      "outputs": [
        {
          "data": {
            "text/plain": [
              "payer_code\n",
              "?     39.659113\n",
              "MC    31.543658\n",
              "HM     6.236849\n",
              "SP     4.974378\n",
              "BC     4.632081\n",
              "MD     3.495454\n",
              "CP     2.480645\n",
              "UN     2.426280\n",
              "CM     1.888673\n",
              "OG     1.017830\n",
              "PO     0.588952\n",
              "DM     0.548682\n",
              "CH     0.142959\n",
              "WC     0.135912\n",
              "OT     0.092621\n",
              "MP     0.079534\n",
              "SI     0.055372\n",
              "FR     0.001007\n",
              "Name: proportion, dtype: float64"
            ]
          },
          "execution_count": 35,
          "metadata": {},
          "output_type": "execute_result"
        }
      ],
      "source": [
        "#10. payer_code\n",
        "df['payer_code'].value_counts(1)*100"
      ]
    },
    {
      "cell_type": "markdown",
      "metadata": {
        "id": "JyOdghBJI1ji"
      },
      "source": [
        "- payer_code has 39.65% of the '?' values\n",
        "\n",
        "**Conclusion:** Dropping payer_code columns, as this a identifier column corresponding to 23 distinct values, for example, Blue Cross/Blue Shield, Medicare, and self-pay (method of payments) and does not correspond to patient re-admission."
      ]
    },
    {
      "cell_type": "code",
      "execution_count": 36,
      "metadata": {
        "id": "AdyOkbmSIjSA"
      },
      "outputs": [],
      "source": [
        "df.drop(['payer_code'],axis=1,inplace=True)"
      ]
    },
    {
      "cell_type": "code",
      "execution_count": 37,
      "metadata": {
        "colab": {
          "base_uri": "https://localhost:8080/",
          "height": 490
        },
        "id": "2Ss6FaZkKUHI",
        "outputId": "6a1cfcd2-d0ac-475e-dbe1-9b896ed30faa"
      },
      "outputs": [
        {
          "data": {
            "text/plain": [
              "medical_specialty\n",
              "?                         48.933343\n",
              "InternalMedicine          14.331162\n",
              "Emergency/Trauma           7.469118\n",
              "Family/GeneralPractice     7.299983\n",
              "Cardiology                 5.314661\n",
              "                            ...    \n",
              "Proctology                 0.001007\n",
              "Speech                     0.001007\n",
              "SportsMedicine             0.001007\n",
              "Perinatology               0.001007\n",
              "Neurophysiology            0.001007\n",
              "Name: proportion, Length: 73, dtype: float64"
            ]
          },
          "execution_count": 37,
          "metadata": {},
          "output_type": "execute_result"
        }
      ],
      "source": [
        "#11. medical_specialty\n",
        "df['medical_specialty'].value_counts(1)*100"
      ]
    },
    {
      "cell_type": "markdown",
      "metadata": {
        "id": "MM6qwOQyKemR"
      },
      "source": [
        "- medical_specialty has 48.93% of the '?' values\n",
        "\n",
        "**Conclusion:** Dropping medical_specialty column, as this a identifier coloumn specialty of the admitting physician, corresponding to 84 distinct values, for example, cardiology, internal medicine, family/general practice, and surgeon. Should not have influence over patient re-admission."
      ]
    },
    {
      "cell_type": "code",
      "execution_count": 38,
      "metadata": {
        "id": "QHfZ4qS6Kcwb"
      },
      "outputs": [],
      "source": [
        "df.drop(['medical_specialty'],axis=1,inplace=True)"
      ]
    },
    {
      "cell_type": "code",
      "execution_count": 39,
      "metadata": {
        "colab": {
          "base_uri": "https://localhost:8080/"
        },
        "id": "7uz_NuyNK_CP",
        "outputId": "9d3e087a-314b-4eae-fb1b-b254af0f53c6"
      },
      "outputs": [
        {
          "name": "stdout",
          "output_type": "stream",
          "text": [
            "The highest number of lab procedure:  132\n",
            "The lowest number of lab procedure:  1\n"
          ]
        }
      ],
      "source": [
        "#12. num_lab_procedures\n",
        "print('The highest number of lab procedure: ',df['num_lab_procedures'].max())\n",
        "print('The lowest number of lab procedure: ',df['num_lab_procedures'].min())"
      ]
    },
    {
      "cell_type": "code",
      "execution_count": null,
      "metadata": {
        "id": "roHkuCDxMT8k"
      },
      "outputs": [],
      "source": [
        "df['num_lab_procedures'].loc[(df['num_lab_procedures']>=1) & (df['num_lab_procedures']< 20)] = 1\n",
        "df['num_lab_procedures'].loc[(df['num_lab_procedures']>=20) & (df['num_lab_procedures']< 40)] = 2\n",
        "df['num_lab_procedures'].loc[(df['num_lab_procedures']>=40) & (df['num_lab_procedures']< 60)] = 3\n",
        "df['num_lab_procedures'].loc[(df['num_lab_procedures']>=60) & (df['num_lab_procedures']< 80)] = 4\n",
        "df['num_lab_procedures'].loc[(df['num_lab_procedures']>=80) & (df['num_lab_procedures']< 100)] = 5\n",
        "df['num_lab_procedures'].loc[(df['num_lab_procedures']>=100)] = 5"
      ]
    },
    {
      "cell_type": "code",
      "execution_count": 41,
      "metadata": {
        "colab": {
          "base_uri": "https://localhost:8080/",
          "height": 333
        },
        "id": "4Z-mgBMANda_",
        "outputId": "14e1c072-24ff-4f45-ccfa-03e6897947b8"
      },
      "outputs": [
        {
          "data": {
            "image/png": "[encoded data removed]",
            "text/plain": [
              "<Figure size 700x300 with 1 Axes>"
            ]
          },
          "metadata": {},
          "output_type": "display_data"
        }
      ],
      "source": [
        "num_lab_procedures_counts = df['num_lab_procedures'].value_counts().sort_values()\n",
        "\n",
        "ax = num_lab_procedures_counts.plot(kind='barh', figsize=(7,3))\n",
        "plt.title('Distribution of num_lab_procedures ')\n",
        "plt.xlabel('Count')\n",
        "plt.ylabel('num_lab_procedures ')\n",
        "\n",
        "for i, v in enumerate(num_lab_procedures_counts):\n",
        "    ax.text(v, i, str(v), color='black', va='center')\n",
        "\n",
        "plt.show()"
      ]
    },
    {
      "cell_type": "markdown",
      "metadata": {
        "id": "5T6_p89SNqzw"
      },
      "source": [
        "- Observation: Highest number of patients have gone through 40 to 60 lab procedures"
      ]
    },
    {
      "cell_type": "code",
      "execution_count": 42,
      "metadata": {
        "colab": {
          "base_uri": "https://localhost:8080/",
          "height": 333
        },
        "id": "V6MDbjU2Nhm_",
        "outputId": "56b21499-65c6-41a6-cc68-55854fa66255"
      },
      "outputs": [
        {
          "data": {
            "image/png": "[encoded data removed]",
            "text/plain": [
              "<Figure size 700x300 with 1 Axes>"
            ]
          },
          "metadata": {},
          "output_type": "display_data"
        }
      ],
      "source": [
        "#13. num_procedures\n",
        "num_procedures_counts = df['num_procedures'].value_counts().sort_values()\n",
        "\n",
        "ax = num_procedures_counts.plot(kind='barh', figsize=(7,3))\n",
        "plt.title('Distribution of num_procedures ')\n",
        "plt.xlabel('Count')\n",
        "plt.ylabel('num_procedures ')\n",
        "\n",
        "for i, v in enumerate(num_procedures_counts):\n",
        "    ax.text(v, i, str(v), color='black', va='center')\n",
        "\n",
        "plt.show()"
      ]
    },
    {
      "cell_type": "markdown",
      "metadata": {
        "id": "sEaZznyXOMpJ"
      },
      "source": [
        "- Observation: Most patients have not gone through any further procedures (other than lab tests) performed during the encounter"
      ]
    },
    {
      "cell_type": "code",
      "execution_count": 43,
      "metadata": {
        "id": "k_R6yrBeOJtb"
      },
      "outputs": [],
      "source": [
        "#15. number_outpatient: Number of outpatient visits of the patient in the year preceding the encounter\n",
        "#16. number_emergency : Number of emergency visits of the patient in the year preceding the encounter\n",
        "#17. number_inpatient: Number of inpatient visits of the patient in the year preceding the encounter"
      ]
    },
    {
      "cell_type": "markdown",
      "metadata": {
        "id": "1KDC_j5iQM2e"
      },
      "source": [
        "- Creating a new column number_preceding_year_visits by combining above three column values and dropping the original columns"
      ]
    },
    {
      "cell_type": "code",
      "execution_count": 44,
      "metadata": {
        "id": "R38keD8lQP4q"
      },
      "outputs": [],
      "source": [
        "df['number_preceding_year_visits']=df['number_outpatient']+df['number_emergency']+df['number_inpatient']\n",
        "df = df.drop(columns=['number_outpatient', 'number_emergency','number_inpatient'])"
      ]
    },
    {
      "cell_type": "code",
      "execution_count": 45,
      "metadata": {
        "id": "v_ctpDJoPKKS"
      },
      "outputs": [],
      "source": [
        "#18. diag_1: The primary diagnosis (coded as first three digits of ICD9); 848 distinct values\n",
        "#19. diag_2: Secondary diagnosis (coded as first three digits of ICD9); 923 distinct values\n",
        "#20. diag_3: Additional secondary diagnosis (coded as first three digits of ICD9); 954 distinct values"
      ]
    },
    {
      "cell_type": "markdown",
      "metadata": {
        "id": "c9DVut03P9Rb"
      },
      "source": [
        "- The full list of ICD-9 code (https://en.wikipedia.org/wiki/List_of_ICD-9_codes)\n",
        "- The distinct values can grouped into one of 18 generic health problems, depending on the first 3 digits as following:"
      ]
    },
    {
      "cell_type": "markdown",
      "metadata": {
        "id": "jHB2cyCVQS6x"
      },
      "source": [
        "- 001–139: infectious and parasitic diseases\n",
        "- 140–239: neoplasms\n",
        "- 240–279: endocrine, nutritional and metabolic diseases, and immunity disorders\n",
        "- 280–289: diseases of the blood and blood-forming organs\n",
        "- 290–319: mental disorders\n",
        "- 320–389: diseases of the nervous system and sense organs\n",
        "- 390–459: diseases of the circulatory system\n",
        "- 460–519: diseases of the respiratory system\n",
        "- 520–579: diseases of the digestive system\n",
        "- 580–629: diseases of the genitourinary system\n",
        "- 630–679: complications of pregnancy, childbirth, and the puerperium\n",
        "- 680–709: diseases of the skin and subcutaneous tissue\n",
        "- 710–739: diseases of the musculoskeletal system and connective tissue\n",
        "- 740–759: congenital anomalies\n",
        "- 760–779: certain conditions originating in the perinatal period\n",
        "- 780–799: symptoms, signs, and ill-defined conditions\n",
        "- 800–999: injury and poisoning\n",
        "- E and V codes: external causes of injury and supplemental classification"
      ]
    },
    {
      "cell_type": "code",
      "execution_count": 46,
      "metadata": {
        "id": "SbUZIPfoQLBT"
      },
      "outputs": [],
      "source": [
        "#start by setting all values containing E or V into 0 (as one category)\n",
        "df.loc[df['diag_1'].str.contains('V',na=False,case=False), 'diag_1'] = 0\n",
        "df.loc[df['diag_1'].str.contains('E',na=False,case=False), 'diag_1'] = 0\n",
        "df.loc[df['diag_2'].str.contains('V',na=False,case=False), 'diag_2'] = 0\n",
        "df.loc[df['diag_2'].str.contains('E',na=False,case=False), 'diag_2'] = 0\n",
        "df.loc[df['diag_3'].str.contains('V',na=False,case=False), 'diag_3'] = 0\n",
        "df.loc[df['diag_3'].str.contains('E',na=False,case=False), 'diag_3'] = 0\n",
        "\n",
        "#setting all missing values into -1\n",
        "df['diag_1'] = df['diag_1'].replace('?', -1)\n",
        "df['diag_2'] = df['diag_2'].replace('?', -1)\n",
        "df['diag_3'] = df['diag_3'].replace('?', -1)\n",
        "\n",
        "#No all diag values can be converted into numeric values\n",
        "df['diag_1'] = df['diag_1'].astype(float)\n",
        "df['diag_2'] = df['diag_2'].astype(float)\n",
        "df['diag_3'] = df['diag_3'].astype(float)"
      ]
    },
    {
      "cell_type": "code",
      "execution_count": 47,
      "metadata": {
        "id": "rLYk3XmOQnbg"
      },
      "outputs": [],
      "source": [
        "#Now we will reduce the number of categories in diag features according to ICD-9 code\n",
        "#(Missing values will be grouped as E & V values)\n",
        "df['diag_1'].loc[(df['diag_1']>=1) & (df['diag_1']< 140)] = 1\n",
        "df['diag_1'].loc[(df['diag_1']>=140) & (df['diag_1']< 240)] = 2\n",
        "df['diag_1'].loc[(df['diag_1']>=240) & (df['diag_1']< 280)] = 3\n",
        "df['diag_1'].loc[(df['diag_1']>=280) & (df['diag_1']< 290)] = 4\n",
        "df['diag_1'].loc[(df['diag_1']>=290) & (df['diag_1']< 320)] = 5\n",
        "df['diag_1'].loc[(df['diag_1']>=320) & (df['diag_1']< 390)] = 6\n",
        "df['diag_1'].loc[(df['diag_1']>=390) & (df['diag_1']< 460)] = 7\n",
        "df['diag_1'].loc[(df['diag_1']>=460) & (df['diag_1']< 520)] = 8\n",
        "df['diag_1'].loc[(df['diag_1']>=520) & (df['diag_1']< 580)] = 9\n",
        "df['diag_1'].loc[(df['diag_1']>=580) & (df['diag_1']< 630)] = 10\n",
        "df['diag_1'].loc[(df['diag_1']>=630) & (df['diag_1']< 680)] = 11\n",
        "df['diag_1'].loc[(df['diag_1']>=680) & (df['diag_1']< 710)] = 12\n",
        "df['diag_1'].loc[(df['diag_1']>=710) & (df['diag_1']< 740)] = 13\n",
        "df['diag_1'].loc[(df['diag_1']>=740) & (df['diag_1']< 760)] = 14\n",
        "df['diag_1'].loc[(df['diag_1']>=760) & (df['diag_1']< 780)] = 15\n",
        "df['diag_1'].loc[(df['diag_1']>=780) & (df['diag_1']< 800)] = 16\n",
        "df['diag_1'].loc[(df['diag_1']>=800) & (df['diag_1']< 1000)] = 17\n",
        "df['diag_1'].loc[(df['diag_1']==-1)] = 0\n",
        "\n",
        "df['diag_2'].loc[(df['diag_2']>=1) & (df['diag_2']< 140)] = 1\n",
        "df['diag_2'].loc[(df['diag_2']>=140) & (df['diag_2']< 240)] = 2\n",
        "df['diag_2'].loc[(df['diag_2']>=240) & (df['diag_2']< 280)] = 3\n",
        "df['diag_2'].loc[(df['diag_2']>=280) & (df['diag_2']< 290)] = 4\n",
        "df['diag_2'].loc[(df['diag_2']>=290) & (df['diag_2']< 320)] = 5\n",
        "df['diag_2'].loc[(df['diag_2']>=320) & (df['diag_2']< 390)] = 6\n",
        "df['diag_2'].loc[(df['diag_2']>=390) & (df['diag_2']< 460)] = 7\n",
        "df['diag_2'].loc[(df['diag_2']>=460) & (df['diag_2']< 520)] = 8\n",
        "df['diag_2'].loc[(df['diag_2']>=520) & (df['diag_2']< 580)] = 9\n",
        "df['diag_2'].loc[(df['diag_2']>=580) & (df['diag_2']< 630)] = 10\n",
        "df['diag_2'].loc[(df['diag_2']>=630) & (df['diag_2']< 680)] = 11\n",
        "df['diag_2'].loc[(df['diag_2']>=680) & (df['diag_2']< 710)] = 12\n",
        "df['diag_2'].loc[(df['diag_2']>=710) & (df['diag_2']< 740)] = 13\n",
        "df['diag_2'].loc[(df['diag_2']>=740) & (df['diag_2']< 760)] = 14\n",
        "df['diag_2'].loc[(df['diag_2']>=760) & (df['diag_2']< 780)] = 15\n",
        "df['diag_2'].loc[(df['diag_2']>=780) & (df['diag_2']< 800)] = 16\n",
        "df['diag_2'].loc[(df['diag_2']>=800) & (df['diag_2']< 1000)] = 17\n",
        "df['diag_2'].loc[(df['diag_2']==-1)] = 0\n",
        "\n",
        "df['diag_3'].loc[(df['diag_3']>=1) & (df['diag_3']< 140)] = 1\n",
        "df['diag_3'].loc[(df['diag_3']>=140) & (df['diag_3']< 240)] = 2\n",
        "df['diag_3'].loc[(df['diag_3']>=240) & (df['diag_3']< 280)] = 3\n",
        "df['diag_3'].loc[(df['diag_3']>=280) & (df['diag_3']< 290)] = 4\n",
        "df['diag_3'].loc[(df['diag_3']>=290) & (df['diag_3']< 320)] = 5\n",
        "df['diag_3'].loc[(df['diag_3']>=320) & (df['diag_3']< 390)] = 6\n",
        "df['diag_3'].loc[(df['diag_3']>=390) & (df['diag_3']< 460)] = 7\n",
        "df['diag_3'].loc[(df['diag_3']>=460) & (df['diag_3']< 520)] = 8\n",
        "df['diag_3'].loc[(df['diag_3']>=520) & (df['diag_3']< 580)] = 9\n",
        "df['diag_3'].loc[(df['diag_3']>=580) & (df['diag_3']< 630)] = 10\n",
        "df['diag_3'].loc[(df['diag_3']>=630) & (df['diag_3']< 680)] = 11\n",
        "df['diag_3'].loc[(df['diag_3']>=680) & (df['diag_3']< 710)] = 12\n",
        "df['diag_3'].loc[(df['diag_3']>=710) & (df['diag_3']< 740)] = 13\n",
        "df['diag_3'].loc[(df['diag_3']>=740) & (df['diag_3']< 760)] = 14\n",
        "df['diag_3'].loc[(df['diag_3']>=760) & (df['diag_3']< 780)] = 15\n",
        "df['diag_3'].loc[(df['diag_3']>=780) & (df['diag_3']< 800)] = 16\n",
        "df['diag_3'].loc[(df['diag_3']>=800) & (df['diag_3']< 1000)] = 17\n",
        "df['diag_3'].loc[(df['diag_3']==-1)] = 0"
      ]
    },
    {
      "cell_type": "code",
      "execution_count": 48,
      "metadata": {
        "colab": {
          "base_uri": "https://localhost:8080/",
          "height": 333
        },
        "id": "1vmAbb0EQrn_",
        "outputId": "55cb693c-d4d2-45cc-d866-e78eb8fcdb62"
      },
      "outputs": [
        {
          "data": {
            "image/png": "[encoded data removed]",
            "text/plain": [
              "<Figure size 700x300 with 1 Axes>"
            ]
          },
          "metadata": {},
          "output_type": "display_data"
        }
      ],
      "source": [
        "#21. number_diagnoses\n",
        "number_diagnoses_counts = df['number_diagnoses'].value_counts().sort_values()\n",
        "\n",
        "ax = number_diagnoses_counts.plot(kind='barh', figsize=(7,3))\n",
        "plt.title('Distribution of number_diagnoses ')\n",
        "plt.xlabel('Count')\n",
        "plt.ylabel('number_diagnoses ')\n",
        "\n",
        "for i, v in enumerate(number_diagnoses_counts):\n",
        "    ax.text(v, i, str(v), color='black', va='center')\n",
        "\n",
        "plt.show()"
      ]
    },
    {
      "cell_type": "markdown",
      "metadata": {
        "id": "yTyVDJwIRWIZ"
      },
      "source": [
        "- Observation: The number of diagonses entered into the system range from 1 to 16 with the most number of diagnosis being 9."
      ]
    },
    {
      "cell_type": "code",
      "execution_count": 49,
      "metadata": {
        "colab": {
          "base_uri": "https://localhost:8080/",
          "height": 333
        },
        "id": "Sr8ShNf7RRKV",
        "outputId": "efcc9cd8-4e3a-408f-eb79-df623f51a821"
      },
      "outputs": [
        {
          "data": {
            "image/png": "[encoded data removed]",
            "text/plain": [
              "<Figure size 700x300 with 1 Axes>"
            ]
          },
          "metadata": {},
          "output_type": "display_data"
        }
      ],
      "source": [
        "#22. max_glu_serum\n",
        "df['max_glu_serum']=df['max_glu_serum'].replace(np.nan, \"None\")\n",
        "\n",
        "max_glu_serum_counts = df['max_glu_serum'].value_counts().sort_values()\n",
        "\n",
        "ax = max_glu_serum_counts.plot(kind='barh', figsize=(7,3))\n",
        "plt.title('Distribution of max_glu_serum ')\n",
        "plt.xlabel('Count')\n",
        "plt.ylabel('max_glu_serum ')\n",
        "\n",
        "for i, v in enumerate(max_glu_serum_counts):\n",
        "    ax.text(v, i, str(v), color='black', va='center')\n",
        "\n",
        "plt.show()"
      ]
    },
    {
      "cell_type": "code",
      "execution_count": 50,
      "metadata": {
        "colab": {
          "base_uri": "https://localhost:8080/",
          "height": 241
        },
        "id": "qE8i2r0MRq7m",
        "outputId": "05059a10-9dc5-4758-f096-1661b62202d9"
      },
      "outputs": [
        {
          "data": {
            "text/plain": [
              "max_glu_serum\n",
              "0    94177\n",
              "1     2545\n",
              "2     1419\n",
              "3     1188\n",
              "Name: count, dtype: int64"
            ]
          },
          "execution_count": 50,
          "metadata": {},
          "output_type": "execute_result"
        }
      ],
      "source": [
        "df['max_glu_serum']=df['max_glu_serum'].replace(\"None\", 0)\n",
        "df['max_glu_serum']=df['max_glu_serum'].replace(\"Norm\", 1)\n",
        "df['max_glu_serum']=df['max_glu_serum'].replace(\">200\", 2)\n",
        "df['max_glu_serum']=df['max_glu_serum'].replace(\">300\", 3)\n",
        "df.max_glu_serum.value_counts()"
      ]
    },
    {
      "cell_type": "code",
      "execution_count": 51,
      "metadata": {
        "colab": {
          "base_uri": "https://localhost:8080/",
          "height": 333
        },
        "id": "ftA4KNiFR4cV",
        "outputId": "4248fde8-1530-4239-e6a2-880c3391a655"
      },
      "outputs": [
        {
          "data": {
            "image/png": "[encoded data removed]",
            "text/plain": [
              "<Figure size 700x300 with 1 Axes>"
            ]
          },
          "metadata": {},
          "output_type": "display_data"
        }
      ],
      "source": [
        "#23. A1Cresult\n",
        "df['A1Cresult']=df['A1Cresult'].replace(np.nan, \"None\")\n",
        "\n",
        "A1Cresult_counts = df['A1Cresult'].value_counts().sort_values()\n",
        "\n",
        "ax = A1Cresult_counts.plot(kind='barh', figsize=(7,3))\n",
        "plt.title('Distribution of A1Cresult ')\n",
        "plt.xlabel('Count')\n",
        "plt.ylabel('A1Cresult ')\n",
        "\n",
        "for i, v in enumerate(A1Cresult_counts):\n",
        "    ax.text(v, i, str(v), color='black', va='center')\n",
        "\n",
        "plt.show()"
      ]
    },
    {
      "cell_type": "markdown",
      "metadata": {
        "id": "UWXoOp9tdVD5"
      },
      "source": [
        "- Observation: This range of the result or if the test was not taken. Values:\n",
        "  - '>8' if the result was greater than 8%,\n",
        "  - '>7' if the result was greater than 7% but less than 8%,\n",
        "  - normal if the result was less than 7%, and\n",
        "  - none if not measured"
      ]
    },
    {
      "cell_type": "markdown",
      "metadata": {
        "id": "uK02wHNSdxud"
      },
      "source": [
        "- From feature number 24 to 46, we have medicine names:\n",
        "generic names : metformin, repaglinide, nateglinide, chlorpropamide, glimepiride, acetohexamide, glipizide, glyburide, tolbutamide, pioglitazone, rosiglitazone, acarbose, miglitol, troglitazone, tolazamide, examide, sitagliptin, insulin, glyburide-metformin, glipizide-metformin, glimepiride-pioglitazone, metformin-rosiglitazone, and metformin-pioglitazone\n",
        "\n",
        "- The feature indicates whether the drug was prescribed or there was a change in the dosage. Values: up if the dosage was increased during the encounter, down if the dosage was decreased, steady if the dosage did not change, and no if the drug was not prescribed\n"
      ]
    },
    {
      "cell_type": "code",
      "execution_count": 52,
      "metadata": {
        "colab": {
          "base_uri": "https://localhost:8080/"
        },
        "id": "ASmaQQAKR_jC",
        "outputId": "b0b43ff3-4e7a-422c-e35f-b29e46d6d119"
      },
      "outputs": [
        {
          "name": "stdout",
          "output_type": "stream",
          "text": [
            "metformin ['No' 'Steady' 'Up' 'Down']\n",
            "repaglinide ['No' 'Up' 'Steady' 'Down']\n",
            "nateglinide ['No' 'Steady' 'Down' 'Up']\n",
            "chlorpropamide ['No' 'Steady' 'Down' 'Up']\n",
            "glimepiride ['No' 'Steady' 'Down' 'Up']\n",
            "acetohexamide ['No' 'Steady']\n",
            "glipizide ['No' 'Steady' 'Up' 'Down']\n",
            "glyburide ['No' 'Steady' 'Up' 'Down']\n",
            "tolbutamide ['No' 'Steady']\n",
            "pioglitazone ['No' 'Steady' 'Up' 'Down']\n",
            "rosiglitazone ['No' 'Steady' 'Up' 'Down']\n",
            "acarbose ['No' 'Steady' 'Up' 'Down']\n",
            "miglitol ['No' 'Steady' 'Down' 'Up']\n",
            "troglitazone ['No' 'Steady']\n",
            "tolazamide ['No' 'Steady' 'Up']\n",
            "examide ['No']\n",
            "citoglipton ['No']\n",
            "insulin ['No' 'Up' 'Steady' 'Down']\n",
            "glyburide-metformin ['No' 'Steady' 'Down' 'Up']\n",
            "glipizide-metformin ['No' 'Steady']\n",
            "glimepiride-pioglitazone ['No' 'Steady']\n",
            "metformin-rosiglitazone ['No' 'Steady']\n",
            "metformin-pioglitazone ['No' 'Steady']\n"
          ]
        }
      ],
      "source": [
        "medicines = ['metformin', 'repaglinide', 'nateglinide', 'chlorpropamide',\n",
        "       'glimepiride', 'acetohexamide', 'glipizide', 'glyburide', 'tolbutamide',\n",
        "       'pioglitazone', 'rosiglitazone', 'acarbose', 'miglitol', 'troglitazone',\n",
        "       'tolazamide', 'examide', 'citoglipton', 'insulin',\n",
        "       'glyburide-metformin', 'glipizide-metformin',\n",
        "       'glimepiride-pioglitazone', 'metformin-rosiglitazone',\n",
        "       'metformin-pioglitazone']\n",
        "\n",
        "for i in medicines:\n",
        "       print(i, df[i].unique())"
      ]
    },
    {
      "cell_type": "markdown",
      "metadata": {
        "id": "vSmI05pTeQ4e"
      },
      "source": [
        "- **Observation:** We can drop columns - examide, citoglipton as these drugs were not prescribed to any patient."
      ]
    },
    {
      "cell_type": "code",
      "execution_count": 53,
      "metadata": {
        "id": "azgf3EkIeN4H"
      },
      "outputs": [],
      "source": [
        "df.drop(['examide', 'citoglipton'], axis = 1, inplace = True)"
      ]
    },
    {
      "cell_type": "code",
      "execution_count": 54,
      "metadata": {
        "id": "mdQpYoXzekW2"
      },
      "outputs": [],
      "source": [
        "# encode prescribed medicines\n",
        "prescribed_medicines = ['metformin', 'repaglinide', 'nateglinide', 'chlorpropamide',\n",
        "       'glimepiride', 'acetohexamide', 'glipizide', 'glyburide', 'tolbutamide',\n",
        "       'pioglitazone', 'rosiglitazone', 'acarbose', 'miglitol', 'troglitazone',\n",
        "       'tolazamide', 'insulin',\n",
        "       'glyburide-metformin', 'glipizide-metformin',\n",
        "       'glimepiride-pioglitazone', 'metformin-rosiglitazone',\n",
        "       'metformin-pioglitazone']\n",
        "\n",
        "for i in prescribed_medicines:\n",
        "    df[i] = df[i].replace({'No' : -2, 'Down' : -1, 'Steady' : 0, 'Up' : 1})\n",
        "\n",
        "for i in prescribed_medicines:\n",
        "    df[i] = df[i].astype('int64')"
      ]
    },
    {
      "cell_type": "code",
      "execution_count": 55,
      "metadata": {
        "colab": {
          "base_uri": "https://localhost:8080/",
          "height": 178
        },
        "id": "P1zxN2ECe4p6",
        "outputId": "5f64962e-a6c8-4b1d-9cb2-7bb8e282c2f8"
      },
      "outputs": [
        {
          "data": {
            "text/plain": [
              "change\n",
              "No    53211\n",
              "Ch    46118\n",
              "Name: count, dtype: int64"
            ]
          },
          "execution_count": 55,
          "metadata": {},
          "output_type": "execute_result"
        }
      ],
      "source": [
        "#47. change\n",
        "df.change.value_counts()"
      ]
    },
    {
      "cell_type": "code",
      "execution_count": 56,
      "metadata": {
        "colab": {
          "base_uri": "https://localhost:8080/",
          "height": 178
        },
        "id": "EcMmKm8ZfBZI",
        "outputId": "0a7d989b-50f9-4f7b-87df-8da8c2b12dbb"
      },
      "outputs": [
        {
          "data": {
            "text/plain": [
              "change\n",
              "0    53211\n",
              "1    46118\n",
              "Name: count, dtype: int64"
            ]
          },
          "execution_count": 56,
          "metadata": {},
          "output_type": "execute_result"
        }
      ],
      "source": [
        "# encode change column: Indicates if there was a change in diabetic medications (either dosage or generic name). Values: change and no change\n",
        "# This can be replaced with No Change: 0 and Change: 1\n",
        "df['change'] = df['change'].replace({'No' : 0, 'Ch' : 1})\n",
        "df['change'].value_counts()"
      ]
    },
    {
      "cell_type": "code",
      "execution_count": 57,
      "metadata": {
        "colab": {
          "base_uri": "https://localhost:8080/",
          "height": 178
        },
        "id": "FKXd6NKMfm4A",
        "outputId": "4ce1e50e-0e72-47b9-efbb-cbd1fe3a1582"
      },
      "outputs": [
        {
          "data": {
            "text/plain": [
              "diabetesMed\n",
              "Yes    76708\n",
              "No     22621\n",
              "Name: count, dtype: int64"
            ]
          },
          "execution_count": 57,
          "metadata": {},
          "output_type": "execute_result"
        }
      ],
      "source": [
        "#48. diabetesMed\n",
        "df['diabetesMed'].value_counts()"
      ]
    },
    {
      "cell_type": "code",
      "execution_count": 58,
      "metadata": {
        "colab": {
          "base_uri": "https://localhost:8080/",
          "height": 178
        },
        "id": "E-9j56E_fTg0",
        "outputId": "7087e344-ad95-4339-de19-e7103ccb9fea"
      },
      "outputs": [
        {
          "data": {
            "text/plain": [
              "diabetesMed\n",
              "1    76708\n",
              "0    22621\n",
              "Name: count, dtype: int64"
            ]
          },
          "execution_count": 58,
          "metadata": {},
          "output_type": "execute_result"
        }
      ],
      "source": [
        "# encode Indicates if there was any diabetic medication prescribed. Values: yes and no\n",
        "# This can be replaced with No: 0 and Yes: 1\n",
        "df['diabetesMed'] = df['diabetesMed'].replace({'No' : 0, 'Yes' : 1})\n",
        "df['diabetesMed'].value_counts()"
      ]
    },
    {
      "cell_type": "markdown",
      "metadata": {
        "id": "cFzwSKDQf1LY"
      },
      "source": [
        "- Target Column: **readmitted**"
      ]
    },
    {
      "cell_type": "code",
      "execution_count": 59,
      "metadata": {
        "colab": {
          "base_uri": "https://localhost:8080/",
          "height": 210
        },
        "id": "ArvERgoZfs_X",
        "outputId": "17136e14-094b-451e-d853-30ee309e7fb2"
      },
      "outputs": [
        {
          "data": {
            "text/plain": [
              "readmitted\n",
              "NO     52516\n",
              ">30    35500\n",
              "<30    11313\n",
              "Name: count, dtype: int64"
            ]
          },
          "execution_count": 59,
          "metadata": {},
          "output_type": "execute_result"
        }
      ],
      "source": [
        "# 49: readmitted: Days to inpatient readmission. Values: <30 if the patient was readmitted in less than 30 days, >30 if the patient was readmitted in more than 30 days, and No for no record of readmission.\n",
        "\n",
        "df['readmitted'].value_counts()"
      ]
    },
    {
      "cell_type": "markdown",
      "metadata": {
        "id": "XEub-GTHgLU9"
      },
      "source": [
        "- The outcome actually has < 30, > 30 and No Readmission categories.\n",
        "\n",
        "- As per the problem statement we have to convert to binary classification:\n",
        " - Readmitted within 30 days → 1\n",
        " - Otherwise (\">30\" or \"NO\") → 0"
      ]
    },
    {
      "cell_type": "code",
      "execution_count": 60,
      "metadata": {
        "id": "7DWM8jIsgCYl"
      },
      "outputs": [],
      "source": [
        "df['readmitted'] = df['readmitted'].replace('>30', 'NO')\n",
        "df['readmitted']= df['readmitted'].replace( {'NO': 0, '<30': 1} ).astype(int)"
      ]
    },
    {
      "cell_type": "code",
      "execution_count": 61,
      "metadata": {
        "id": "nEnJjU3ghM0h"
      },
      "outputs": [],
      "source": [
        "df.reset_index(drop = True, inplace = True)"
      ]
    },
    {
      "cell_type": "code",
      "execution_count": 62,
      "metadata": {
        "colab": {
          "base_uri": "https://localhost:8080/"
        },
        "id": "2jtEOQFOgbSQ",
        "outputId": "57395e7b-4364-47f3-ba78-caa1fdb6abfd"
      },
      "outputs": [
        {
          "name": "stdout",
          "output_type": "stream",
          "text": [
            "<class 'pandas.core.frame.DataFrame'>\n",
            "RangeIndex: 99329 entries, 0 to 99328\n",
            "Data columns (total 42 columns):\n",
            " #   Column                        Non-Null Count  Dtype  \n",
            "---  ------                        --------------  -----  \n",
            " 0   race                          97095 non-null  object \n",
            " 1   gender                        99329 non-null  int64  \n",
            " 2   age                           99329 non-null  int64  \n",
            " 3   admission_type_id             99329 non-null  object \n",
            " 4   discharge_disposition_id      99329 non-null  object \n",
            " 5   admission_source_id           99329 non-null  object \n",
            " 6   time_in_hospital              99329 non-null  int64  \n",
            " 7   num_lab_procedures            99329 non-null  int64  \n",
            " 8   num_procedures                99329 non-null  int64  \n",
            " 9   num_medications               99329 non-null  int64  \n",
            " 10  diag_1                        99329 non-null  float64\n",
            " 11  diag_2                        99329 non-null  float64\n",
            " 12  diag_3                        99329 non-null  float64\n",
            " 13  number_diagnoses              99329 non-null  int64  \n",
            " 14  max_glu_serum                 99329 non-null  int64  \n",
            " 15  A1Cresult                     99329 non-null  object \n",
            " 16  metformin                     99329 non-null  int64  \n",
            " 17  repaglinide                   99329 non-null  int64  \n",
            " 18  nateglinide                   99329 non-null  int64  \n",
            " 19  chlorpropamide                99329 non-null  int64  \n",
            " 20  glimepiride                   99329 non-null  int64  \n",
            " 21  acetohexamide                 99329 non-null  int64  \n",
            " 22  glipizide                     99329 non-null  int64  \n",
            " 23  glyburide                     99329 non-null  int64  \n",
            " 24  tolbutamide                   99329 non-null  int64  \n",
            " 25  pioglitazone                  99329 non-null  int64  \n",
            " 26  rosiglitazone                 99329 non-null  int64  \n",
            " 27  acarbose                      99329 non-null  int64  \n",
            " 28  miglitol                      99329 non-null  int64  \n",
            " 29  troglitazone                  99329 non-null  int64  \n",
            " 30  tolazamide                    99329 non-null  int64  \n",
            " 31  insulin                       99329 non-null  int64  \n",
            " 32  glyburide-metformin           99329 non-null  int64  \n",
            " 33  glipizide-metformin           99329 non-null  int64  \n",
            " 34  glimepiride-pioglitazone      99329 non-null  int64  \n",
            " 35  metformin-rosiglitazone       99329 non-null  int64  \n",
            " 36  metformin-pioglitazone        99329 non-null  int64  \n",
            " 37  change                        99329 non-null  int64  \n",
            " 38  diabetesMed                   99329 non-null  int64  \n",
            " 39  readmitted                    99329 non-null  int64  \n",
            " 40  has_weight                    99329 non-null  int64  \n",
            " 41  number_preceding_year_visits  99329 non-null  int64  \n",
            "dtypes: float64(3), int64(34), object(5)\n",
            "memory usage: 31.8+ MB\n"
          ]
        }
      ],
      "source": [
        "df.info()"
      ]
    },
    {
      "cell_type": "markdown",
      "metadata": {
        "id": "LyLX7m-qiFqy"
      },
      "source": [
        "Total number of features has been reduced to 40 discarding the target column (readmitted):"
      ]
    },
    {
      "cell_type": "code",
      "execution_count": 63,
      "metadata": {
        "colab": {
          "base_uri": "https://localhost:8080/"
        },
        "id": "nVo4iWj_gskf",
        "outputId": "27552718-1a7e-4711-f357-00fd9bdb5a61"
      },
      "outputs": [
        {
          "name": "stdout",
          "output_type": "stream",
          "text": [
            "Total categorical columns:  5\n",
            "Categorical columns:  Index(['race', 'admission_type_id', 'discharge_disposition_id',\n",
            "       'admission_source_id', 'A1Cresult'],\n",
            "      dtype='object')\n",
            "Total numerical columns :  37\n",
            "Numerical columns: Index(['gender', 'age', 'time_in_hospital', 'num_lab_procedures',\n",
            "       'num_procedures', 'num_medications', 'diag_1', 'diag_2', 'diag_3',\n",
            "       'number_diagnoses', 'max_glu_serum', 'metformin', 'repaglinide',\n",
            "       'nateglinide', 'chlorpropamide', 'glimepiride', 'acetohexamide',\n",
            "       'glipizide', 'glyburide', 'tolbutamide', 'pioglitazone',\n",
            "       'rosiglitazone', 'acarbose', 'miglitol', 'troglitazone', 'tolazamide',\n",
            "       'insulin', 'glyburide-metformin', 'glipizide-metformin',\n",
            "       'glimepiride-pioglitazone', 'metformin-rosiglitazone',\n",
            "       'metformin-pioglitazone', 'change', 'diabetesMed', 'readmitted',\n",
            "       'has_weight', 'number_preceding_year_visits'],\n",
            "      dtype='object')\n"
          ]
        }
      ],
      "source": [
        "df_cat = df.select_dtypes(include=object)\n",
        "df_num = df.select_dtypes(include=np.number)\n",
        "print(f'Total categorical columns: ',len(df_cat.columns))\n",
        "print(f'Categorical columns: ',df_cat.columns)\n",
        "print(f'Total numerical columns : ',len(df_num.columns))\n",
        "print(f'Numerical columns:',df_num.columns)"
      ]
    },
    {
      "cell_type": "code",
      "execution_count": 64,
      "metadata": {
        "id": "0ib62YA6iT7k"
      },
      "outputs": [],
      "source": [
        "cat_cols = ['race', 'admission_type_id', 'discharge_disposition_id', 'admission_source_id', 'A1Cresult']\n",
        "\n",
        "num_cols = ['gender', 'age', 'time_in_hospital', 'num_lab_procedures',\n",
        "       'num_procedures', 'num_medications', 'diag_1', 'diag_2', 'diag_3',\n",
        "       'number_diagnoses', 'max_glu_serum', 'metformin', 'repaglinide',\n",
        "       'nateglinide', 'chlorpropamide', 'glimepiride', 'acetohexamide',\n",
        "       'glipizide', 'glyburide', 'tolbutamide', 'pioglitazone',\n",
        "       'rosiglitazone', 'acarbose', 'miglitol', 'troglitazone', 'tolazamide',\n",
        "       'insulin', 'glyburide-metformin', 'glipizide-metformin',\n",
        "       'glimepiride-pioglitazone', 'metformin-rosiglitazone',\n",
        "       'metformin-pioglitazone', 'change', 'diabetesMed', 'readmitted',\n",
        "       'has_weight', 'number_preceding_year_visits']"
      ]
    },
    {
      "cell_type": "markdown",
      "metadata": {
        "id": "KK8XEoboinJ0"
      },
      "source": [
        "Chi Square for categorical v/s categorical and one way anova for categorical v/s numerical"
      ]
    },
    {
      "cell_type": "code",
      "execution_count": 65,
      "metadata": {
        "colab": {
          "base_uri": "https://localhost:8080/",
          "height": 1000
        },
        "id": "b9SbgUcCijwz",
        "outputId": "6ec8c522-8397-46c8-f936-540045043a70"
      },
      "outputs": [
        {
          "data": {
            "text/html": [
              "<div>\n",
              "<style scoped>\n",
              "    .dataframe tbody tr th:only-of-type {\n",
              "        vertical-align: middle;\n",
              "    }\n",
              "\n",
              "    .dataframe tbody tr th {\n",
              "        vertical-align: top;\n",
              "    }\n",
              "\n",
              "    .dataframe thead th {\n",
              "        text-align: right;\n",
              "    }\n",
              "</style>\n",
              "<table border=\"1\" class=\"dataframe\">\n",
              "  <thead>\n",
              "    <tr style=\"text-align: right;\">\n",
              "      <th></th>\n",
              "      <th>columns</th>\n",
              "      <th>p_value</th>\n",
              "      <th>significance</th>\n",
              "    </tr>\n",
              "  </thead>\n",
              "  <tbody>\n",
              "    <tr>\n",
              "      <th>41</th>\n",
              "      <td>number_preceding_year_visits</td>\n",
              "      <td>0.000000e+00</td>\n",
              "      <td>Significant</td>\n",
              "    </tr>\n",
              "    <tr>\n",
              "      <th>39</th>\n",
              "      <td>readmitted</td>\n",
              "      <td>0.000000e+00</td>\n",
              "      <td>Significant</td>\n",
              "    </tr>\n",
              "    <tr>\n",
              "      <th>4</th>\n",
              "      <td>discharge_disposition_id</td>\n",
              "      <td>1.779497e-183</td>\n",
              "      <td>Significant</td>\n",
              "    </tr>\n",
              "    <tr>\n",
              "      <th>13</th>\n",
              "      <td>number_diagnoses</td>\n",
              "      <td>5.259039e-64</td>\n",
              "      <td>Significant</td>\n",
              "    </tr>\n",
              "    <tr>\n",
              "      <th>6</th>\n",
              "      <td>time_in_hospital</td>\n",
              "      <td>1.781592e-49</td>\n",
              "      <td>Significant</td>\n",
              "    </tr>\n",
              "    <tr>\n",
              "      <th>9</th>\n",
              "      <td>num_medications</td>\n",
              "      <td>1.448842e-38</td>\n",
              "      <td>Significant</td>\n",
              "    </tr>\n",
              "    <tr>\n",
              "      <th>31</th>\n",
              "      <td>insulin</td>\n",
              "      <td>1.394245e-18</td>\n",
              "      <td>Significant</td>\n",
              "    </tr>\n",
              "    <tr>\n",
              "      <th>16</th>\n",
              "      <td>metformin</td>\n",
              "      <td>1.068189e-16</td>\n",
              "      <td>Significant</td>\n",
              "    </tr>\n",
              "    <tr>\n",
              "      <th>38</th>\n",
              "      <td>diabetesMed</td>\n",
              "      <td>2.845296e-16</td>\n",
              "      <td>Significant</td>\n",
              "    </tr>\n",
              "    <tr>\n",
              "      <th>10</th>\n",
              "      <td>diag_1</td>\n",
              "      <td>3.411281e-15</td>\n",
              "      <td>Significant</td>\n",
              "    </tr>\n",
              "    <tr>\n",
              "      <th>7</th>\n",
              "      <td>num_lab_procedures</td>\n",
              "      <td>3.408510e-14</td>\n",
              "      <td>Significant</td>\n",
              "    </tr>\n",
              "    <tr>\n",
              "      <th>2</th>\n",
              "      <td>age</td>\n",
              "      <td>2.666165e-12</td>\n",
              "      <td>Significant</td>\n",
              "    </tr>\n",
              "    <tr>\n",
              "      <th>12</th>\n",
              "      <td>diag_3</td>\n",
              "      <td>6.409517e-11</td>\n",
              "      <td>Significant</td>\n",
              "    </tr>\n",
              "    <tr>\n",
              "      <th>5</th>\n",
              "      <td>admission_source_id</td>\n",
              "      <td>4.818591e-10</td>\n",
              "      <td>Significant</td>\n",
              "    </tr>\n",
              "    <tr>\n",
              "      <th>15</th>\n",
              "      <td>A1Cresult</td>\n",
              "      <td>3.103932e-09</td>\n",
              "      <td>Significant</td>\n",
              "    </tr>\n",
              "    <tr>\n",
              "      <th>37</th>\n",
              "      <td>change</td>\n",
              "      <td>4.720280e-09</td>\n",
              "      <td>Significant</td>\n",
              "    </tr>\n",
              "    <tr>\n",
              "      <th>3</th>\n",
              "      <td>admission_type_id</td>\n",
              "      <td>4.796973e-06</td>\n",
              "      <td>Significant</td>\n",
              "    </tr>\n",
              "    <tr>\n",
              "      <th>14</th>\n",
              "      <td>max_glu_serum</td>\n",
              "      <td>2.547359e-05</td>\n",
              "      <td>Significant</td>\n",
              "    </tr>\n",
              "    <tr>\n",
              "      <th>8</th>\n",
              "      <td>num_procedures</td>\n",
              "      <td>6.646220e-04</td>\n",
              "      <td>Significant</td>\n",
              "    </tr>\n",
              "    <tr>\n",
              "      <th>17</th>\n",
              "      <td>repaglinide</td>\n",
              "      <td>3.577819e-03</td>\n",
              "      <td>Significant</td>\n",
              "    </tr>\n",
              "    <tr>\n",
              "      <th>20</th>\n",
              "      <td>glimepiride</td>\n",
              "      <td>1.597929e-02</td>\n",
              "      <td>Significant</td>\n",
              "    </tr>\n",
              "    <tr>\n",
              "      <th>23</th>\n",
              "      <td>glyburide</td>\n",
              "      <td>3.325761e-02</td>\n",
              "      <td>Significant</td>\n",
              "    </tr>\n",
              "    <tr>\n",
              "      <th>26</th>\n",
              "      <td>rosiglitazone</td>\n",
              "      <td>3.571999e-02</td>\n",
              "      <td>Significant</td>\n",
              "    </tr>\n",
              "    <tr>\n",
              "      <th>25</th>\n",
              "      <td>pioglitazone</td>\n",
              "      <td>3.692991e-02</td>\n",
              "      <td>Significant</td>\n",
              "    </tr>\n",
              "    <tr>\n",
              "      <th>19</th>\n",
              "      <td>chlorpropamide</td>\n",
              "      <td>1.025627e-01</td>\n",
              "      <td>Insignificant</td>\n",
              "    </tr>\n",
              "    <tr>\n",
              "      <th>0</th>\n",
              "      <td>race</td>\n",
              "      <td>1.408394e-01</td>\n",
              "      <td>Insignificant</td>\n",
              "    </tr>\n",
              "    <tr>\n",
              "      <th>27</th>\n",
              "      <td>acarbose</td>\n",
              "      <td>2.386656e-01</td>\n",
              "      <td>Insignificant</td>\n",
              "    </tr>\n",
              "    <tr>\n",
              "      <th>24</th>\n",
              "      <td>tolbutamide</td>\n",
              "      <td>3.390161e-01</td>\n",
              "      <td>Insignificant</td>\n",
              "    </tr>\n",
              "    <tr>\n",
              "      <th>1</th>\n",
              "      <td>gender</td>\n",
              "      <td>4.318035e-01</td>\n",
              "      <td>Insignificant</td>\n",
              "    </tr>\n",
              "    <tr>\n",
              "      <th>30</th>\n",
              "      <td>tolazamide</td>\n",
              "      <td>4.570004e-01</td>\n",
              "      <td>Insignificant</td>\n",
              "    </tr>\n",
              "    <tr>\n",
              "      <th>29</th>\n",
              "      <td>troglitazone</td>\n",
              "      <td>5.346197e-01</td>\n",
              "      <td>Insignificant</td>\n",
              "    </tr>\n",
              "    <tr>\n",
              "      <th>28</th>\n",
              "      <td>miglitol</td>\n",
              "      <td>5.478740e-01</td>\n",
              "      <td>Insignificant</td>\n",
              "    </tr>\n",
              "    <tr>\n",
              "      <th>35</th>\n",
              "      <td>metformin-rosiglitazone</td>\n",
              "      <td>6.121431e-01</td>\n",
              "      <td>Insignificant</td>\n",
              "    </tr>\n",
              "    <tr>\n",
              "      <th>33</th>\n",
              "      <td>glipizide-metformin</td>\n",
              "      <td>6.747574e-01</td>\n",
              "      <td>Insignificant</td>\n",
              "    </tr>\n",
              "    <tr>\n",
              "      <th>22</th>\n",
              "      <td>glipizide</td>\n",
              "      <td>6.916851e-01</td>\n",
              "      <td>Insignificant</td>\n",
              "    </tr>\n",
              "    <tr>\n",
              "      <th>21</th>\n",
              "      <td>acetohexamide</td>\n",
              "      <td>7.199594e-01</td>\n",
              "      <td>Insignificant</td>\n",
              "    </tr>\n",
              "    <tr>\n",
              "      <th>36</th>\n",
              "      <td>metformin-pioglitazone</td>\n",
              "      <td>7.199594e-01</td>\n",
              "      <td>Insignificant</td>\n",
              "    </tr>\n",
              "    <tr>\n",
              "      <th>34</th>\n",
              "      <td>glimepiride-pioglitazone</td>\n",
              "      <td>7.199594e-01</td>\n",
              "      <td>Insignificant</td>\n",
              "    </tr>\n",
              "    <tr>\n",
              "      <th>11</th>\n",
              "      <td>diag_2</td>\n",
              "      <td>8.108096e-01</td>\n",
              "      <td>Insignificant</td>\n",
              "    </tr>\n",
              "    <tr>\n",
              "      <th>32</th>\n",
              "      <td>glyburide-metformin</td>\n",
              "      <td>8.117725e-01</td>\n",
              "      <td>Insignificant</td>\n",
              "    </tr>\n",
              "    <tr>\n",
              "      <th>18</th>\n",
              "      <td>nateglinide</td>\n",
              "      <td>9.257527e-01</td>\n",
              "      <td>Insignificant</td>\n",
              "    </tr>\n",
              "    <tr>\n",
              "      <th>40</th>\n",
              "      <td>has_weight</td>\n",
              "      <td>NaN</td>\n",
              "      <td>Insignificant</td>\n",
              "    </tr>\n",
              "  </tbody>\n",
              "</table>\n",
              "</div>"
            ],
            "text/plain": [
              "                         columns        p_value   significance\n",
              "41  number_preceding_year_visits   0.000000e+00    Significant\n",
              "39                    readmitted   0.000000e+00    Significant\n",
              "4       discharge_disposition_id  1.779497e-183    Significant\n",
              "13              number_diagnoses   5.259039e-64    Significant\n",
              "6               time_in_hospital   1.781592e-49    Significant\n",
              "9                num_medications   1.448842e-38    Significant\n",
              "31                       insulin   1.394245e-18    Significant\n",
              "16                     metformin   1.068189e-16    Significant\n",
              "38                   diabetesMed   2.845296e-16    Significant\n",
              "10                        diag_1   3.411281e-15    Significant\n",
              "7             num_lab_procedures   3.408510e-14    Significant\n",
              "2                            age   2.666165e-12    Significant\n",
              "12                        diag_3   6.409517e-11    Significant\n",
              "5            admission_source_id   4.818591e-10    Significant\n",
              "15                     A1Cresult   3.103932e-09    Significant\n",
              "37                        change   4.720280e-09    Significant\n",
              "3              admission_type_id   4.796973e-06    Significant\n",
              "14                 max_glu_serum   2.547359e-05    Significant\n",
              "8                 num_procedures   6.646220e-04    Significant\n",
              "17                   repaglinide   3.577819e-03    Significant\n",
              "20                   glimepiride   1.597929e-02    Significant\n",
              "23                     glyburide   3.325761e-02    Significant\n",
              "26                 rosiglitazone   3.571999e-02    Significant\n",
              "25                  pioglitazone   3.692991e-02    Significant\n",
              "19                chlorpropamide   1.025627e-01  Insignificant\n",
              "0                           race   1.408394e-01  Insignificant\n",
              "27                      acarbose   2.386656e-01  Insignificant\n",
              "24                   tolbutamide   3.390161e-01  Insignificant\n",
              "1                         gender   4.318035e-01  Insignificant\n",
              "30                    tolazamide   4.570004e-01  Insignificant\n",
              "29                  troglitazone   5.346197e-01  Insignificant\n",
              "28                      miglitol   5.478740e-01  Insignificant\n",
              "35       metformin-rosiglitazone   6.121431e-01  Insignificant\n",
              "33           glipizide-metformin   6.747574e-01  Insignificant\n",
              "22                     glipizide   6.916851e-01  Insignificant\n",
              "21                 acetohexamide   7.199594e-01  Insignificant\n",
              "36        metformin-pioglitazone   7.199594e-01  Insignificant\n",
              "34      glimepiride-pioglitazone   7.199594e-01  Insignificant\n",
              "11                        diag_2   8.108096e-01  Insignificant\n",
              "32           glyburide-metformin   8.117725e-01  Insignificant\n",
              "18                   nateglinide   9.257527e-01  Insignificant\n",
              "40                    has_weight            NaN  Insignificant"
            ]
          },
          "execution_count": 65,
          "metadata": {},
          "output_type": "execute_result"
        }
      ],
      "source": [
        "#Statistical Tests (Chi Square and Anova)\n",
        "\n",
        "p_val = []\n",
        "sig = []\n",
        "for i in df.columns:\n",
        "    if i in num_cols:\n",
        "        stat, p = stats.f_oneway(df[df['readmitted'] == 0][i], df[df['readmitted'] == 1][i])\n",
        "    else:\n",
        "        ct = pd.crosstab(df[i], df['readmitted'])\n",
        "        stat, p, dof, exp = stats.chi2_contingency(ct)\n",
        "    p_val.append(p)\n",
        "    if p < 0.05:\n",
        "        sig.append('Significant')\n",
        "    else:\n",
        "        sig.append(\"Insignificant\")\n",
        "stats_df = pd.DataFrame({\"columns\" : df.columns, \"p_value\" : p_val, \"significance\" : sig})\n",
        "\n",
        "stats_df.sort_values(by='p_value',ascending = True)"
      ]
    },
    {
      "cell_type": "code",
      "execution_count": 66,
      "metadata": {
        "colab": {
          "base_uri": "https://localhost:8080/"
        },
        "id": "1-3HB2bXit61",
        "outputId": "8eeb2908-7e59-4b6c-d9b4-5382f36c307b"
      },
      "outputs": [
        {
          "name": "stdout",
          "output_type": "stream",
          "text": [
            "Statiscally significant features are : \n",
            "\n",
            "0                              age\n",
            "1                admission_type_id\n",
            "2         discharge_disposition_id\n",
            "3              admission_source_id\n",
            "4                 time_in_hospital\n",
            "5               num_lab_procedures\n",
            "6                   num_procedures\n",
            "7                  num_medications\n",
            "8                           diag_1\n",
            "9                           diag_3\n",
            "10                number_diagnoses\n",
            "11                   max_glu_serum\n",
            "12                       A1Cresult\n",
            "13                       metformin\n",
            "14                     repaglinide\n",
            "15                     glimepiride\n",
            "16                       glyburide\n",
            "17                    pioglitazone\n",
            "18                   rosiglitazone\n",
            "19                         insulin\n",
            "20                          change\n",
            "21                     diabetesMed\n",
            "22                      readmitted\n",
            "23    number_preceding_year_visits\n",
            "Name: columns, dtype: object\n"
          ]
        }
      ],
      "source": [
        "sig_cols = stats_df[stats_df['significance'] == 'Significant']['columns'].reset_index(drop = True)\n",
        "insig_cols = stats_df[stats_df['significance'] == 'Insignificant']['columns'].reset_index(drop = True)\n",
        "print('Statiscally significant features are :','\\n')\n",
        "print(sig_cols)"
      ]
    },
    {
      "cell_type": "code",
      "execution_count": 67,
      "metadata": {
        "colab": {
          "base_uri": "https://localhost:8080/"
        },
        "id": "N16Q1eOdjgMy",
        "outputId": "388d4a5e-0872-4077-8ffb-d784a203ceae"
      },
      "outputs": [
        {
          "data": {
            "text/plain": [
              "['nateglinide',\n",
              " 'chlorpropamide',\n",
              " 'acetohexamide',\n",
              " 'tolbutamide',\n",
              " 'acarbose',\n",
              " 'miglitol',\n",
              " 'troglitazone',\n",
              " 'tolazamide',\n",
              " 'glyburide-metformin',\n",
              " 'glipizide-metformin',\n",
              " 'glimepiride-pioglitazone',\n",
              " 'metformin-rosiglitazone',\n",
              " 'metformin-pioglitazone']"
            ]
          },
          "execution_count": 67,
          "metadata": {},
          "output_type": "execute_result"
        }
      ],
      "source": [
        "prescribed_medicines = ['metformin', 'repaglinide', 'nateglinide', 'chlorpropamide',\n",
        "       'glimepiride', 'acetohexamide', 'glipizide', 'glyburide', 'tolbutamide',\n",
        "       'pioglitazone', 'rosiglitazone', 'acarbose', 'miglitol', 'troglitazone',\n",
        "       'tolazamide', 'insulin',\n",
        "       'glyburide-metformin', 'glipizide-metformin',\n",
        "       'glimepiride-pioglitazone', 'metformin-rosiglitazone',\n",
        "       'metformin-pioglitazone']\n",
        "\n",
        "# Medicines given to less than 1% of the population\n",
        "less_counts = []\n",
        "\n",
        "for i in prescribed_medicines:\n",
        "    vc = df[i].value_counts().values\n",
        "    if vc[1:].sum() / vc[0] < 0.01:\n",
        "        less_counts.append(i)\n",
        "\n",
        "less_counts"
      ]
    },
    {
      "cell_type": "markdown",
      "metadata": {
        "id": "0f2uGPn7j6en"
      },
      "source": [
        "- **Observation:** Drop these medicines as they are given to less than 1% of the population and they are statistically insignificat as well."
      ]
    },
    {
      "cell_type": "code",
      "execution_count": 68,
      "metadata": {
        "id": "WrBfT9S_jxJr"
      },
      "outputs": [],
      "source": [
        "df = df.drop(['nateglinide',\n",
        " 'chlorpropamide',\n",
        " 'acetohexamide',\n",
        " 'tolbutamide',\n",
        " 'acarbose',\n",
        " 'miglitol',\n",
        " 'troglitazone',\n",
        " 'tolazamide',\n",
        " 'glyburide-metformin',\n",
        " 'glipizide-metformin',\n",
        " 'glimepiride-pioglitazone',\n",
        " 'metformin-rosiglitazone',\n",
        " 'metformin-pioglitazone'],axis=1)"
      ]
    },
    {
      "cell_type": "code",
      "execution_count": 69,
      "metadata": {
        "colab": {
          "base_uri": "https://localhost:8080/"
        },
        "id": "3L9jmfoLkRbq",
        "outputId": "30aa5920-fef0-4476-bdd9-945b296038ed"
      },
      "outputs": [
        {
          "name": "stdout",
          "output_type": "stream",
          "text": [
            "<class 'pandas.core.frame.DataFrame'>\n",
            "RangeIndex: 99329 entries, 0 to 99328\n",
            "Data columns (total 29 columns):\n",
            " #   Column                        Non-Null Count  Dtype  \n",
            "---  ------                        --------------  -----  \n",
            " 0   race                          97095 non-null  object \n",
            " 1   gender                        99329 non-null  int64  \n",
            " 2   age                           99329 non-null  int64  \n",
            " 3   admission_type_id             99329 non-null  object \n",
            " 4   discharge_disposition_id      99329 non-null  object \n",
            " 5   admission_source_id           99329 non-null  object \n",
            " 6   time_in_hospital              99329 non-null  int64  \n",
            " 7   num_lab_procedures            99329 non-null  int64  \n",
            " 8   num_procedures                99329 non-null  int64  \n",
            " 9   num_medications               99329 non-null  int64  \n",
            " 10  diag_1                        99329 non-null  float64\n",
            " 11  diag_2                        99329 non-null  float64\n",
            " 12  diag_3                        99329 non-null  float64\n",
            " 13  number_diagnoses              99329 non-null  int64  \n",
            " 14  max_glu_serum                 99329 non-null  int64  \n",
            " 15  A1Cresult                     99329 non-null  object \n",
            " 16  metformin                     99329 non-null  int64  \n",
            " 17  repaglinide                   99329 non-null  int64  \n",
            " 18  glimepiride                   99329 non-null  int64  \n",
            " 19  glipizide                     99329 non-null  int64  \n",
            " 20  glyburide                     99329 non-null  int64  \n",
            " 21  pioglitazone                  99329 non-null  int64  \n",
            " 22  rosiglitazone                 99329 non-null  int64  \n",
            " 23  insulin                       99329 non-null  int64  \n",
            " 24  change                        99329 non-null  int64  \n",
            " 25  diabetesMed                   99329 non-null  int64  \n",
            " 26  readmitted                    99329 non-null  int64  \n",
            " 27  has_weight                    99329 non-null  int64  \n",
            " 28  number_preceding_year_visits  99329 non-null  int64  \n",
            "dtypes: float64(3), int64(21), object(5)\n",
            "memory usage: 22.0+ MB\n"
          ]
        }
      ],
      "source": [
        "df.info()"
      ]
    },
    {
      "cell_type": "code",
      "execution_count": 70,
      "metadata": {
        "id": "M79rUNpplrIz"
      },
      "outputs": [],
      "source": [
        "num_cols = ['age', 'time_in_hospital', 'num_lab_procedures', 'num_procedures', 'num_medications',\n",
        "            'number_diagnoses','number_preceding_year_visits']"
      ]
    },
    {
      "cell_type": "code",
      "execution_count": 71,
      "metadata": {
        "colab": {
          "base_uri": "https://localhost:8080/",
          "height": 648
        },
        "id": "kKy1ftnPlDl0",
        "outputId": "231f4fec-8494-44f7-f99b-63a821b00648"
      },
      "outputs": [
        {
          "data": {
            "image/png": "[encoded data removed]",
            "text/plain": [
              "<Figure size 800x500 with 2 Axes>"
            ]
          },
          "metadata": {},
          "output_type": "display_data"
        }
      ],
      "source": [
        "plt.figure(figsize=(8,5))\n",
        "num_cols = [col for col in num_cols if col in df.columns]\n",
        "corr=df[num_cols].corr()\n",
        "sns.heatmap(corr,annot=True,cmap='YlGnBu')\n",
        "b,t=plt.ylim()\n",
        "plt.ylim(b+0.5,t-0.5)\n",
        "plt.show()"
      ]
    },
    {
      "cell_type": "markdown",
      "metadata": {
        "id": "2e3sEvK8ncgS"
      },
      "source": [
        "- As it can be seen from correlation heatmap that there is no Multi-Collinearity in the numerical features."
      ]
    },
    {
      "cell_type": "code",
      "execution_count": 72,
      "metadata": {
        "colab": {
          "base_uri": "https://localhost:8080/",
          "height": 607
        },
        "id": "FRAGSlxYnHWm",
        "outputId": "31bfb6c0-372f-40e1-9387-a46f61a6451e"
      },
      "outputs": [
        {
          "data": {
            "image/png": "[encoded data removed]",
            "text/plain": [
              "<Figure size 1800x600 with 4 Axes>"
            ]
          },
          "metadata": {},
          "output_type": "display_data"
        }
      ],
      "source": [
        "fig = plt.figure(figsize=(18, 6))\n",
        "\n",
        "ax1 = fig.add_subplot(2, 2, 1)\n",
        "ax2 = fig.add_subplot(2, 2, 2)\n",
        "ax3 = fig.add_subplot(2, 2, 3)\n",
        "ax4 = fig.add_subplot(2, 2, 4)\n",
        "\n",
        "sns.countplot(data=df, x='race', hue='readmitted', ax=ax1)\n",
        "sns.countplot(data=df, x='age', hue='readmitted', ax=ax2)\n",
        "sns.countplot(data=df, x='gender', hue='readmitted', ax=ax3)\n",
        "sns.countplot(data=df, x='diabetesMed', hue='readmitted', ax=ax4)\n",
        "\n",
        "ax1.legend(loc='upper right')\n",
        "ax2.legend(loc='upper right')\n",
        "ax3.legend(loc='upper right')\n",
        "ax4.legend(loc='upper right')\n",
        "plt.tight_layout()\n",
        "plt.show()"
      ]
    },
    {
      "cell_type": "code",
      "execution_count": 73,
      "metadata": {
        "colab": {
          "base_uri": "https://localhost:8080/",
          "height": 325
        },
        "id": "i6KkUIF3oJbx",
        "outputId": "48bd7b0a-4a49-4e23-8997-190a028e25f7"
      },
      "outputs": [
        {
          "data": {
            "image/png": "[encoded data removed]",
            "text/plain": [
              "<Figure size 2000x400 with 7 Axes>"
            ]
          },
          "metadata": {},
          "output_type": "display_data"
        }
      ],
      "source": [
        "fig, ax = plt.subplots(1, 7,figsize=(20, 4), subplot_kw=dict(aspect=\"equal\"))\n",
        "ax[0].pie(df['metformin'].value_counts(), autopct='%1.0f%%', labels=['No', 'Steady', 'Up', 'Down'])\n",
        "ax[0].set_title('metformin Dosage')\n",
        "ax[1].pie(df['glimepiride'].value_counts(), autopct='%1.0f%%', labels=['No', 'Steady', 'Up', 'Down'])\n",
        "ax[1].set_title('glimepiride Dosage')\n",
        "ax[2].pie(df['glipizide'].value_counts(), autopct='%1.0f%%', labels=['No', 'Steady', 'Up', 'Down'])\n",
        "ax[2].set_title('glipizide Dosage')\n",
        "ax[3].pie(df['glyburide'].value_counts(), autopct='%1.0f%%', labels=['No', 'Steady', 'Up', 'Down'])\n",
        "ax[3].set_title('glyburide Dosage')\n",
        "ax[4].pie(df['pioglitazone'].value_counts(), autopct='%1.0f%%', labels=['No', 'Steady', 'Up', 'Down'])\n",
        "ax[4].set_title('pioglitazone Dosage')\n",
        "ax[5].pie(df['rosiglitazone'].value_counts(), autopct='%1.0f%%', labels=['No', 'Steady', 'Up', 'Down'])\n",
        "ax[5].set_title('rosiglitazone Dosage')\n",
        "ax[6].pie(df['insulin'].value_counts(), autopct='%1.0f%%', labels=['No', 'Steady', 'Down', 'Up'])\n",
        "ax[6].set_title('insulin Dosage')\n",
        "\n",
        "fig.suptitle('Drugs Dosage Changes During Encounter')\n",
        "plt.show()"
      ]
    },
    {
      "cell_type": "code",
      "execution_count": 74,
      "metadata": {
        "colab": {
          "base_uri": "https://localhost:8080/",
          "height": 581
        },
        "id": "RSNQ5pwloL_U",
        "outputId": "8e3de497-8edb-40f4-f80d-65953d8e326a"
      },
      "outputs": [
        {
          "data": {
            "text/plain": [
              "Text(0.5, 1.0, 'Time in Hospital VS. Readmission')"
            ]
          },
          "execution_count": 74,
          "metadata": {},
          "output_type": "execute_result"
        },
        {
          "data": {
            "image/png": "[encoded data removed]",
            "text/plain": [
              "<Figure size 1200x600 with 1 Axes>"
            ]
          },
          "metadata": {},
          "output_type": "display_data"
        }
      ],
      "source": [
        "fig = plt.figure(figsize=(12,6))\n",
        "ax=sns.kdeplot(df.loc[(df['readmitted'] == 1),'time_in_hospital'] , color='r',shade=True, label='No readmittion or Readmittion in >30 days')\n",
        "ax=sns.kdeplot(df.loc[(df['readmitted'] == 0),'time_in_hospital'] , color='y',shade=True, label='Readmitted in <30 days')\n",
        "ax.set(xlabel='Time in Hospital (days)', ylabel='Frequency')\n",
        "plt.title('Time in Hospital VS. Readmission')"
      ]
    },
    {
      "cell_type": "code",
      "execution_count": 75,
      "metadata": {
        "colab": {
          "base_uri": "https://localhost:8080/"
        },
        "id": "clayR7Z3oPKy",
        "outputId": "87bd7a8b-b12c-4ec0-c49f-a53eeed95b3f"
      },
      "outputs": [
        {
          "data": {
            "text/html": [
              "<div>\n",
              "<style scoped>\n",
              "    .dataframe tbody tr th:only-of-type {\n",
              "        vertical-align: middle;\n",
              "    }\n",
              "\n",
              "    .dataframe tbody tr th {\n",
              "        vertical-align: top;\n",
              "    }\n",
              "\n",
              "    .dataframe thead th {\n",
              "        text-align: right;\n",
              "    }\n",
              "</style>\n",
              "<table border=\"1\" class=\"dataframe\">\n",
              "  <thead>\n",
              "    <tr style=\"text-align: right;\">\n",
              "      <th></th>\n",
              "      <th>race</th>\n",
              "      <th>gender</th>\n",
              "      <th>age</th>\n",
              "      <th>admission_type_id</th>\n",
              "      <th>discharge_disposition_id</th>\n",
              "      <th>admission_source_id</th>\n",
              "      <th>time_in_hospital</th>\n",
              "      <th>num_lab_procedures</th>\n",
              "      <th>num_procedures</th>\n",
              "      <th>num_medications</th>\n",
              "      <th>...</th>\n",
              "      <th>glipizide</th>\n",
              "      <th>glyburide</th>\n",
              "      <th>pioglitazone</th>\n",
              "      <th>rosiglitazone</th>\n",
              "      <th>insulin</th>\n",
              "      <th>change</th>\n",
              "      <th>diabetesMed</th>\n",
              "      <th>readmitted</th>\n",
              "      <th>has_weight</th>\n",
              "      <th>number_preceding_year_visits</th>\n",
              "    </tr>\n",
              "  </thead>\n",
              "  <tbody>\n",
              "    <tr>\n",
              "      <th>0</th>\n",
              "      <td>Caucasian</td>\n",
              "      <td>0</td>\n",
              "      <td>5</td>\n",
              "      <td>Not Available</td>\n",
              "      <td>Not Available</td>\n",
              "      <td>Hospital Referral</td>\n",
              "      <td>1</td>\n",
              "      <td>3</td>\n",
              "      <td>0</td>\n",
              "      <td>1</td>\n",
              "      <td>...</td>\n",
              "      <td>-2</td>\n",
              "      <td>-2</td>\n",
              "      <td>-2</td>\n",
              "      <td>-2</td>\n",
              "      <td>-2</td>\n",
              "      <td>0</td>\n",
              "      <td>0</td>\n",
              "      <td>0</td>\n",
              "      <td>1</td>\n",
              "      <td>0</td>\n",
              "    </tr>\n",
              "    <tr>\n",
              "      <th>1</th>\n",
              "      <td>Caucasian</td>\n",
              "      <td>0</td>\n",
              "      <td>15</td>\n",
              "      <td>Emergency</td>\n",
              "      <td>Discharged to home</td>\n",
              "      <td>Emergency</td>\n",
              "      <td>3</td>\n",
              "      <td>3</td>\n",
              "      <td>0</td>\n",
              "      <td>18</td>\n",
              "      <td>...</td>\n",
              "      <td>-2</td>\n",
              "      <td>-2</td>\n",
              "      <td>-2</td>\n",
              "      <td>-2</td>\n",
              "      <td>1</td>\n",
              "      <td>1</td>\n",
              "      <td>1</td>\n",
              "      <td>0</td>\n",
              "      <td>1</td>\n",
              "      <td>0</td>\n",
              "    </tr>\n",
              "    <tr>\n",
              "      <th>2</th>\n",
              "      <td>AfricanAmerican</td>\n",
              "      <td>0</td>\n",
              "      <td>25</td>\n",
              "      <td>Emergency</td>\n",
              "      <td>Discharged to home</td>\n",
              "      <td>Emergency</td>\n",
              "      <td>2</td>\n",
              "      <td>1</td>\n",
              "      <td>5</td>\n",
              "      <td>13</td>\n",
              "      <td>...</td>\n",
              "      <td>0</td>\n",
              "      <td>-2</td>\n",
              "      <td>-2</td>\n",
              "      <td>-2</td>\n",
              "      <td>-2</td>\n",
              "      <td>0</td>\n",
              "      <td>1</td>\n",
              "      <td>0</td>\n",
              "      <td>1</td>\n",
              "      <td>3</td>\n",
              "    </tr>\n",
              "    <tr>\n",
              "      <th>3</th>\n",
              "      <td>Caucasian</td>\n",
              "      <td>1</td>\n",
              "      <td>35</td>\n",
              "      <td>Emergency</td>\n",
              "      <td>Discharged to home</td>\n",
              "      <td>Emergency</td>\n",
              "      <td>2</td>\n",
              "      <td>3</td>\n",
              "      <td>1</td>\n",
              "      <td>16</td>\n",
              "      <td>...</td>\n",
              "      <td>-2</td>\n",
              "      <td>-2</td>\n",
              "      <td>-2</td>\n",
              "      <td>-2</td>\n",
              "      <td>1</td>\n",
              "      <td>1</td>\n",
              "      <td>1</td>\n",
              "      <td>0</td>\n",
              "      <td>1</td>\n",
              "      <td>0</td>\n",
              "    </tr>\n",
              "    <tr>\n",
              "      <th>4</th>\n",
              "      <td>Caucasian</td>\n",
              "      <td>1</td>\n",
              "      <td>45</td>\n",
              "      <td>Emergency</td>\n",
              "      <td>Discharged to home</td>\n",
              "      <td>Emergency</td>\n",
              "      <td>1</td>\n",
              "      <td>3</td>\n",
              "      <td>0</td>\n",
              "      <td>8</td>\n",
              "      <td>...</td>\n",
              "      <td>0</td>\n",
              "      <td>-2</td>\n",
              "      <td>-2</td>\n",
              "      <td>-2</td>\n",
              "      <td>0</td>\n",
              "      <td>1</td>\n",
              "      <td>1</td>\n",
              "      <td>0</td>\n",
              "      <td>1</td>\n",
              "      <td>0</td>\n",
              "    </tr>\n",
              "    <tr>\n",
              "      <th>5</th>\n",
              "      <td>Caucasian</td>\n",
              "      <td>1</td>\n",
              "      <td>55</td>\n",
              "      <td>Emergency</td>\n",
              "      <td>Discharged to home</td>\n",
              "      <td>Hospital Referral</td>\n",
              "      <td>3</td>\n",
              "      <td>2</td>\n",
              "      <td>6</td>\n",
              "      <td>16</td>\n",
              "      <td>...</td>\n",
              "      <td>-2</td>\n",
              "      <td>-2</td>\n",
              "      <td>-2</td>\n",
              "      <td>-2</td>\n",
              "      <td>0</td>\n",
              "      <td>0</td>\n",
              "      <td>1</td>\n",
              "      <td>0</td>\n",
              "      <td>1</td>\n",
              "      <td>0</td>\n",
              "    </tr>\n",
              "    <tr>\n",
              "      <th>6</th>\n",
              "      <td>Caucasian</td>\n",
              "      <td>1</td>\n",
              "      <td>65</td>\n",
              "      <td>Elective</td>\n",
              "      <td>Discharged to home</td>\n",
              "      <td>Hospital Referral</td>\n",
              "      <td>4</td>\n",
              "      <td>4</td>\n",
              "      <td>1</td>\n",
              "      <td>21</td>\n",
              "      <td>...</td>\n",
              "      <td>-2</td>\n",
              "      <td>-2</td>\n",
              "      <td>-2</td>\n",
              "      <td>-2</td>\n",
              "      <td>0</td>\n",
              "      <td>1</td>\n",
              "      <td>1</td>\n",
              "      <td>0</td>\n",
              "      <td>1</td>\n",
              "      <td>0</td>\n",
              "    </tr>\n",
              "    <tr>\n",
              "      <th>7</th>\n",
              "      <td>Caucasian</td>\n",
              "      <td>1</td>\n",
              "      <td>75</td>\n",
              "      <td>Emergency</td>\n",
              "      <td>Discharged to home</td>\n",
              "      <td>Emergency</td>\n",
              "      <td>5</td>\n",
              "      <td>4</td>\n",
              "      <td>0</td>\n",
              "      <td>12</td>\n",
              "      <td>...</td>\n",
              "      <td>-2</td>\n",
              "      <td>0</td>\n",
              "      <td>-2</td>\n",
              "      <td>-2</td>\n",
              "      <td>-2</td>\n",
              "      <td>0</td>\n",
              "      <td>1</td>\n",
              "      <td>0</td>\n",
              "      <td>1</td>\n",
              "      <td>0</td>\n",
              "    </tr>\n",
              "    <tr>\n",
              "      <th>8</th>\n",
              "      <td>Caucasian</td>\n",
              "      <td>0</td>\n",
              "      <td>85</td>\n",
              "      <td>Emergency</td>\n",
              "      <td>Discharged to home</td>\n",
              "      <td>Transferred from another health care facility</td>\n",
              "      <td>13</td>\n",
              "      <td>4</td>\n",
              "      <td>2</td>\n",
              "      <td>28</td>\n",
              "      <td>...</td>\n",
              "      <td>0</td>\n",
              "      <td>-2</td>\n",
              "      <td>-2</td>\n",
              "      <td>-2</td>\n",
              "      <td>0</td>\n",
              "      <td>1</td>\n",
              "      <td>1</td>\n",
              "      <td>0</td>\n",
              "      <td>1</td>\n",
              "      <td>0</td>\n",
              "    </tr>\n",
              "    <tr>\n",
              "      <th>9</th>\n",
              "      <td>Caucasian</td>\n",
              "      <td>0</td>\n",
              "      <td>95</td>\n",
              "      <td>Elective</td>\n",
              "      <td>Transferred to another medical institution</td>\n",
              "      <td>Transferred from another health care facility</td>\n",
              "      <td>12</td>\n",
              "      <td>2</td>\n",
              "      <td>3</td>\n",
              "      <td>18</td>\n",
              "      <td>...</td>\n",
              "      <td>-2</td>\n",
              "      <td>-2</td>\n",
              "      <td>-2</td>\n",
              "      <td>0</td>\n",
              "      <td>0</td>\n",
              "      <td>1</td>\n",
              "      <td>1</td>\n",
              "      <td>0</td>\n",
              "      <td>1</td>\n",
              "      <td>0</td>\n",
              "    </tr>\n",
              "  </tbody>\n",
              "</table>\n",
              "<p>10 rows × 29 columns</p>\n",
              "</div>"
            ],
            "text/plain": [
              "              race  gender  age admission_type_id  \\\n",
              "0        Caucasian       0    5     Not Available   \n",
              "1        Caucasian       0   15         Emergency   \n",
              "2  AfricanAmerican       0   25         Emergency   \n",
              "3        Caucasian       1   35         Emergency   \n",
              "4        Caucasian       1   45         Emergency   \n",
              "5        Caucasian       1   55         Emergency   \n",
              "6        Caucasian       1   65          Elective   \n",
              "7        Caucasian       1   75         Emergency   \n",
              "8        Caucasian       0   85         Emergency   \n",
              "9        Caucasian       0   95          Elective   \n",
              "\n",
              "                     discharge_disposition_id  \\\n",
              "0                               Not Available   \n",
              "1                          Discharged to home   \n",
              "2                          Discharged to home   \n",
              "3                          Discharged to home   \n",
              "4                          Discharged to home   \n",
              "5                          Discharged to home   \n",
              "6                          Discharged to home   \n",
              "7                          Discharged to home   \n",
              "8                          Discharged to home   \n",
              "9  Transferred to another medical institution   \n",
              "\n",
              "                             admission_source_id  time_in_hospital  \\\n",
              "0                              Hospital Referral                 1   \n",
              "1                                      Emergency                 3   \n",
              "2                                      Emergency                 2   \n",
              "3                                      Emergency                 2   \n",
              "4                                      Emergency                 1   \n",
              "5                              Hospital Referral                 3   \n",
              "6                              Hospital Referral                 4   \n",
              "7                                      Emergency                 5   \n",
              "8  Transferred from another health care facility                13   \n",
              "9  Transferred from another health care facility                12   \n",
              "\n",
              "   num_lab_procedures  num_procedures  num_medications  ...  glipizide  \\\n",
              "0                   3               0                1  ...         -2   \n",
              "1                   3               0               18  ...         -2   \n",
              "2                   1               5               13  ...          0   \n",
              "3                   3               1               16  ...         -2   \n",
              "4                   3               0                8  ...          0   \n",
              "5                   2               6               16  ...         -2   \n",
              "6                   4               1               21  ...         -2   \n",
              "7                   4               0               12  ...         -2   \n",
              "8                   4               2               28  ...          0   \n",
              "9                   2               3               18  ...         -2   \n",
              "\n",
              "   glyburide  pioglitazone  rosiglitazone  insulin change  diabetesMed  \\\n",
              "0         -2            -2             -2       -2      0            0   \n",
              "1         -2            -2             -2        1      1            1   \n",
              "2         -2            -2             -2       -2      0            1   \n",
              "3         -2            -2             -2        1      1            1   \n",
              "4         -2            -2             -2        0      1            1   \n",
              "5         -2            -2             -2        0      0            1   \n",
              "6         -2            -2             -2        0      1            1   \n",
              "7          0            -2             -2       -2      0            1   \n",
              "8         -2            -2             -2        0      1            1   \n",
              "9         -2            -2              0        0      1            1   \n",
              "\n",
              "   readmitted  has_weight  number_preceding_year_visits  \n",
              "0           0           1                             0  \n",
              "1           0           1                             0  \n",
              "2           0           1                             3  \n",
              "3           0           1                             0  \n",
              "4           0           1                             0  \n",
              "5           0           1                             0  \n",
              "6           0           1                             0  \n",
              "7           0           1                             0  \n",
              "8           0           1                             0  \n",
              "9           0           1                             0  \n",
              "\n",
              "[10 rows x 29 columns]"
            ]
          },
          "execution_count": 75,
          "metadata": {},
          "output_type": "execute_result"
        }
      ],
      "source": [
        "df.head(10)"
      ]
    },
    {
      "cell_type": "code",
      "execution_count": 76,
      "metadata": {
        "id": "Hq6PXsHKon4y"
      },
      "outputs": [
        {
          "name": "stdout",
          "output_type": "stream",
          "text": [
            "\n",
            "Unique values in df:\n",
            "Column: race\n",
            "Unique values (6): ['Caucasian' 'AfricanAmerican' nan 'Other' 'Asian' 'Hispanic']\n",
            "--------------------------------------------------\n",
            "Column: gender\n",
            "Unique values (2): [0 1]\n",
            "--------------------------------------------------\n",
            "Column: age\n",
            "Unique values (10): [ 5 15 25 35 45 55 65 75 85 95]\n",
            "--------------------------------------------------\n",
            "Column: admission_type_id\n",
            "Unique values (3): ['Not Available' 'Emergency' 'Elective']\n",
            "--------------------------------------------------\n",
            "Column: discharge_disposition_id\n",
            "Unique values (7): ['Not Available' 'Discharged to home'\n",
            " 'Transferred to another medical institution'\n",
            " 'Discharged/transferred to home with home health service' 'Left AMA'\n",
            " 'Neonate discharged to another hospital'\n",
            " 'Admitted patient/referred to this institution']\n",
            "--------------------------------------------------\n",
            "Column: admission_source_id\n",
            "Unique values (4): ['Hospital Referral' 'Emergency'\n",
            " 'Transferred from another health care facility' 'Not Available']\n",
            "--------------------------------------------------\n",
            "Column: time_in_hospital\n",
            "Unique values (14): [ 1  3  2  4  5 13 12  9  7 10  6 11  8 14]\n",
            "--------------------------------------------------\n",
            "Column: num_lab_procedures\n",
            "Unique values (5): [3 1 2 4 5]\n",
            "--------------------------------------------------\n",
            "Column: num_procedures\n",
            "Unique values (7): [0 5 1 6 2 3 4]\n",
            "--------------------------------------------------\n",
            "Column: num_medications\n",
            "Unique values (75): [ 1 18 13 16  8 21 12 28 17 11 15 31  2 23 19  7 20 14 10 22  9 25  4 32\n",
            "  6 26 24 33  5 27 39  3 30 29 61 40 46 41 36 34 35 50 43 42 37 51 38 45\n",
            " 54 52 49 62 55 47 44 53 48 57 59 56 60 63 58 70 67 64 69 65 68 66 81 79\n",
            " 75 72 74]\n",
            "--------------------------------------------------\n",
            "Column: diag_1\n",
            "Unique values (17): [ 3. 11.  1.  2.  7.  8. 17. 12. 13.  9.  0. 16. 10.  5.  6.  4. 14.]\n",
            "--------------------------------------------------\n",
            "Column: diag_2\n",
            "Unique values (17): [ 0.  3.  2.  7.  8.  4. 17. 13. 10.  1.  9. 12.  6. 16.  5. 11. 14.]\n",
            "--------------------------------------------------\n",
            "Column: diag_3\n",
            "Unique values (17): [ 0.  3.  7.  1.  8. 17.  2. 10. 13. 16.  9. 12.  5. 14.  6. 11.  4.]\n",
            "--------------------------------------------------\n",
            "Column: number_diagnoses\n",
            "Unique values (16): [ 1  9  6  7  5  8  3  4  2 16 12 13 15 10 11 14]\n",
            "--------------------------------------------------\n",
            "Column: max_glu_serum\n",
            "Unique values (4): [0 3 1 2]\n",
            "--------------------------------------------------\n",
            "Column: A1Cresult\n",
            "Unique values (4): ['None' '>7' '>8' 'Norm']\n",
            "--------------------------------------------------\n",
            "Column: metformin\n",
            "Unique values (4): [-2  0  1 -1]\n",
            "--------------------------------------------------\n",
            "Column: repaglinide\n",
            "Unique values (4): [-2  1  0 -1]\n",
            "--------------------------------------------------\n",
            "Column: glimepiride\n",
            "Unique values (4): [-2  0 -1  1]\n",
            "--------------------------------------------------\n",
            "Column: glipizide\n",
            "Unique values (4): [-2  0  1 -1]\n",
            "--------------------------------------------------\n",
            "Column: glyburide\n",
            "Unique values (4): [-2  0  1 -1]\n",
            "--------------------------------------------------\n",
            "Column: pioglitazone\n",
            "Unique values (4): [-2  0  1 -1]\n",
            "--------------------------------------------------\n",
            "Column: rosiglitazone\n",
            "Unique values (4): [-2  0  1 -1]\n",
            "--------------------------------------------------\n",
            "Column: insulin\n",
            "Unique values (4): [-2  1  0 -1]\n",
            "--------------------------------------------------\n",
            "Column: change\n",
            "Unique values (2): [0 1]\n",
            "--------------------------------------------------\n",
            "Column: diabetesMed\n",
            "Unique values (2): [0 1]\n",
            "--------------------------------------------------\n",
            "Column: readmitted\n",
            "Unique values (2): [0 1]\n",
            "--------------------------------------------------\n",
            "Column: has_weight\n",
            "Unique values (1): [1]\n",
            "--------------------------------------------------\n",
            "Column: number_preceding_year_visits\n",
            "Unique values (47): [ 0  3  1  2  6  7 10  5  4 14 15  8 12  9 13 11 18 17 25 27 23 30 16 31\n",
            " 19 20 21 22 35 49 34 38 28 26 24 32 42 40 36 33 29 37 48 80 68 61 41]\n",
            "--------------------------------------------------\n"
          ]
        }
      ],
      "source": [
        "def display_unique_values(df):\n",
        "    for column in df.columns:\n",
        "        unique_vals = df[column].unique()\n",
        "        print(f\"Column: {column}\")\n",
        "        print(f\"Unique values ({len(unique_vals)}): {unique_vals}\")\n",
        "        print(\"-\" * 50)\n",
        "print(\"\\nUnique values in df:\")        \n",
        "display_unique_values(df)"
      ]
    },
    {
      "cell_type": "code",
      "execution_count": 77,
      "metadata": {},
      "outputs": [],
      "source": [
        "a1c_map = {'None': 0, 'Norm': 1, '>7': 2, '>8': 3}\n",
        "df['A1Cresult'] = df['A1Cresult'].map(a1c_map)"
      ]
    },
    {
      "cell_type": "code",
      "execution_count": 78,
      "metadata": {},
      "outputs": [
        {
          "data": {
            "text/plain": [
              "discharge_disposition_id\n",
              "1    60224\n",
              "2    20689\n",
              "3    13006\n",
              "0     4680\n",
              "4      623\n",
              "6      101\n",
              "5        6\n",
              "Name: count, dtype: int64"
            ]
          },
          "execution_count": 78,
          "metadata": {},
          "output_type": "execute_result"
        }
      ],
      "source": [
        "discharge_disposition_id_map = {\n",
        "    'Not Available': 0,\n",
        "    'Discharged to home': 1,\n",
        "    'Transferred to another medical institution': 2,\n",
        "    'Discharged/transferred to home with home health service': 3,\n",
        "    'Left AMA': 4,\n",
        "    'Neonate discharged to another hospital': 5,\n",
        "    'Admitted patient/referred to this institution': 6\n",
        "}\n",
        "\n",
        "df['discharge_disposition_id'] = df['discharge_disposition_id'].map(discharge_disposition_id_map)\n",
        "df['discharge_disposition_id'].value_counts()"
      ]
    },
    {
      "cell_type": "code",
      "execution_count": 79,
      "metadata": {},
      "outputs": [
        {
          "data": {
            "text/plain": [
              "admission_type_id\n",
              "0    70518\n",
              "1    18667\n",
              "2    10144\n",
              "Name: count, dtype: int64"
            ]
          },
          "execution_count": 79,
          "metadata": {},
          "output_type": "execute_result"
        }
      ],
      "source": [
        "admission_type_id_map = {'Emergency':0, 'Elective':1, 'Not Available':2}\n",
        "df['admission_type_id'] = df['admission_type_id'].map(admission_type_id_map)\n",
        "\n",
        "df['admission_type_id'].value_counts()"
      ]
    },
    {
      "cell_type": "code",
      "execution_count": 80,
      "metadata": {},
      "outputs": [
        {
          "data": {
            "text/plain": [
              "admission_source_id\n",
              "2    55863\n",
              "1    30432\n",
              "0     6854\n",
              "3     6180\n",
              "Name: count, dtype: int64"
            ]
          },
          "execution_count": 80,
          "metadata": {},
          "output_type": "execute_result"
        }
      ],
      "source": [
        "admission_source_id_map = {\n",
        "    'Not Available': 0,\n",
        "    'Hospital Referral': 1,\n",
        "    'Emergency': 2,\n",
        "    'Transferred from another health care facility': 3\n",
        "}\n",
        "df['admission_source_id'] = df['admission_source_id'].map(admission_source_id_map)\n",
        "df['admission_source_id'].value_counts()"
      ]
    },
    {
      "cell_type": "code",
      "execution_count": 81,
      "metadata": {},
      "outputs": [
        {
          "data": {
            "text/plain": [
              "race\n",
              "0.0    74213\n",
              "1.0    18768\n",
              "3.0     2015\n",
              "4.0     1472\n",
              "2.0      627\n",
              "Name: count, dtype: int64"
            ]
          },
          "execution_count": 81,
          "metadata": {},
          "output_type": "execute_result"
        }
      ],
      "source": [
        "race_map = {\n",
        "    'Caucasian': 0,\n",
        "    'AfricanAmerican': 1,\n",
        "    'Asian': 2,\n",
        "    'Hispanic': 3,\n",
        "    'Other': 4,\n",
        "}\n",
        "\n",
        "df['race'] = df['race'].map(race_map)\n",
        "df['race'].value_counts()"
      ]
    },
    {
      "cell_type": "code",
      "execution_count": 82,
      "metadata": {},
      "outputs": [
        {
          "data": {
            "text/plain": [
              "number_diabetes_meds\n",
              "0    53469\n",
              "1    30981\n",
              "2    12590\n",
              "3     2226\n",
              "4       62\n",
              "5        1\n",
              "Name: count, dtype: int64"
            ]
          },
          "execution_count": 82,
          "metadata": {},
          "output_type": "execute_result"
        }
      ],
      "source": [
        "diabetes_meds = ['metformin', 'repaglinide', 'glimepiride', 'glipizide',\n",
        "                 'glyburide', 'pioglitazone', 'rosiglitazone']\n",
        "\n",
        "df['number_diabetes_meds'] = np.nan\n",
        "for i in range(len(df)):\n",
        "    n = 0\n",
        "    for j in diabetes_meds:\n",
        "        if df.loc[i, j] != -2:\n",
        "            n += 1\n",
        "    df.loc[i, 'number_diabetes_meds'] = n\n",
        "df['number_diabetes_meds']=df['number_diabetes_meds'].astype('int64')\n",
        "df['number_diabetes_meds'].value_counts()"
      ]
    },
    {
      "cell_type": "markdown",
      "metadata": {},
      "source": [
        "7 different kind of medicines have been summerized into one column 'number_diabetes_meds' hence dropping the features from diabetes_meds"
      ]
    },
    {
      "cell_type": "code",
      "execution_count": 83,
      "metadata": {},
      "outputs": [],
      "source": [
        "df=df.drop(columns=diabetes_meds)\n",
        "df.reset_index(drop = True, inplace = True)"
      ]
    },
    {
      "cell_type": "markdown",
      "metadata": {},
      "source": [
        "- admission_type_id and admission_source_id depict the same insight so, one of them can be dropped"
      ]
    },
    {
      "cell_type": "code",
      "execution_count": 84,
      "metadata": {},
      "outputs": [],
      "source": [
        "df.drop('admission_source_id', axis=1, inplace=True)"
      ]
    },
    {
      "cell_type": "code",
      "execution_count": 85,
      "metadata": {},
      "outputs": [
        {
          "data": {
            "text/plain": [
              "race\n",
              "0.0    76447\n",
              "1.0    18768\n",
              "3.0     2015\n",
              "4.0     1472\n",
              "2.0      627\n",
              "Name: count, dtype: int64"
            ]
          },
          "execution_count": 85,
          "metadata": {},
          "output_type": "execute_result"
        }
      ],
      "source": [
        "df['race'] = df['race'].fillna(0.0)\n",
        "df['race'].value_counts()"
      ]
    },
    {
      "cell_type": "code",
      "execution_count": 86,
      "metadata": {},
      "outputs": [],
      "source": [
        "df.drop('has_weight', axis=1, inplace=True)\n",
        "df.reset_index(drop = True, inplace = True)"
      ]
    },
    {
      "cell_type": "code",
      "execution_count": 87,
      "metadata": {},
      "outputs": [
        {
          "name": "stdout",
          "output_type": "stream",
          "text": [
            "<class 'pandas.core.frame.DataFrame'>\n",
            "RangeIndex: 99329 entries, 0 to 99328\n",
            "Data columns (total 21 columns):\n",
            " #   Column                        Non-Null Count  Dtype  \n",
            "---  ------                        --------------  -----  \n",
            " 0   race                          99329 non-null  float64\n",
            " 1   gender                        99329 non-null  int64  \n",
            " 2   age                           99329 non-null  int64  \n",
            " 3   admission_type_id             99329 non-null  int64  \n",
            " 4   discharge_disposition_id      99329 non-null  int64  \n",
            " 5   time_in_hospital              99329 non-null  int64  \n",
            " 6   num_lab_procedures            99329 non-null  int64  \n",
            " 7   num_procedures                99329 non-null  int64  \n",
            " 8   num_medications               99329 non-null  int64  \n",
            " 9   diag_1                        99329 non-null  float64\n",
            " 10  diag_2                        99329 non-null  float64\n",
            " 11  diag_3                        99329 non-null  float64\n",
            " 12  number_diagnoses              99329 non-null  int64  \n",
            " 13  max_glu_serum                 99329 non-null  int64  \n",
            " 14  A1Cresult                     99329 non-null  int64  \n",
            " 15  insulin                       99329 non-null  int64  \n",
            " 16  change                        99329 non-null  int64  \n",
            " 17  diabetesMed                   99329 non-null  int64  \n",
            " 18  readmitted                    99329 non-null  int64  \n",
            " 19  number_preceding_year_visits  99329 non-null  int64  \n",
            " 20  number_diabetes_meds          99329 non-null  int64  \n",
            "dtypes: float64(4), int64(17)\n",
            "memory usage: 15.9 MB\n"
          ]
        }
      ],
      "source": [
        "df.info()"
      ]
    },
    {
      "cell_type": "code",
      "execution_count": 88,
      "metadata": {},
      "outputs": [],
      "source": [
        "df.to_csv('diabetic_data_cleaned.csv', index = False)"
      ]
    }
  ],
  "metadata": {
    "accelerator": "GPU",
    "colab": {
      "gpuType": "T4",
      "provenance": []
    },
    "kernelspec": {
      "display_name": ".venv",
      "language": "python",
      "name": "python3"
    },
    "language_info": {
      "codemirror_mode": {
        "name": "ipython",
        "version": 3
      },
      "file_extension": ".py",
      "mimetype": "text/x-python",
      "name": "python",
      "nbconvert_exporter": "python",
      "pygments_lexer": "ipython3",
      "version": "3.13.5"
    }
  },
  "nbformat": 4,
  "nbformat_minor": 0
}
